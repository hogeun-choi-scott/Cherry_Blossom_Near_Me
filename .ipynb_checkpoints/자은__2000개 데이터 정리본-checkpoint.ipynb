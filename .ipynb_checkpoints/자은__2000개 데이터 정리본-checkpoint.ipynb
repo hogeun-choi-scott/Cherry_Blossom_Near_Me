{
 "cells": [
  {
   "cell_type": "code",
   "execution_count": 21,
   "metadata": {},
   "outputs": [],
   "source": [
    "import pandas as pd\n",
    "import numpy as np\n",
    "import os\n",
    "import matplotlib.pyplot as plt\n",
    "%matplotlib inline\n",
    "from matplotlib import font_manager, rc\n",
    "font_name = font_manager.FontProperties(fname=\"c:/Windows/Fonts/malgun.ttf\").get_name()\n",
    "rc('font', family=font_name)\n",
    "import folium\n",
    "import json                                       # json = JavaScript Object Notation.\n",
    "import os\n",
    "from sklearn.preprocessing import MinMaxScaler    # scikit-learn 라이브러리의 전처리 기능."
   ]
  },
  {
   "cell_type": "code",
   "execution_count": 2,
   "metadata": {},
   "outputs": [],
   "source": [
    "df = pd.read_csv('project1_df2_3.csv')  "
   ]
  },
  {
   "cell_type": "code",
   "execution_count": 3,
   "metadata": {},
   "outputs": [
    {
     "data": {
      "text/plain": [
       "(7959, 11)"
      ]
     },
     "execution_count": 3,
     "metadata": {},
     "output_type": "execute_result"
    }
   ],
   "source": [
    "df.shape"
   ]
  },
  {
   "cell_type": "code",
   "execution_count": 4,
   "metadata": {},
   "outputs": [
    {
     "name": "stdout",
     "output_type": "stream",
     "text": [
      "<class 'pandas.core.frame.DataFrame'>\n",
      "RangeIndex: 7959 entries, 0 to 7958\n",
      "Data columns (total 11 columns):\n",
      " #   Column      Non-Null Count  Dtype  \n",
      "---  ------      --------------  -----  \n",
      " 0   Unnamed: 0  7959 non-null   int64  \n",
      " 1   num         7959 non-null   int64  \n",
      " 2   time        7959 non-null   object \n",
      " 3   name        7959 non-null   object \n",
      " 4   latitude    7959 non-null   float64\n",
      " 5   longitude   7959 non-null   float64\n",
      " 6   likes       7959 non-null   int64  \n",
      " 7   comments    7696 non-null   float64\n",
      " 8   hashtag     7959 non-null   object \n",
      " 9   code        7959 non-null   object \n",
      " 10  address     7959 non-null   object \n",
      "dtypes: float64(3), int64(3), object(5)\n",
      "memory usage: 684.1+ KB\n"
     ]
    }
   ],
   "source": [
    "df.info()"
   ]
  },
  {
   "cell_type": "markdown",
   "metadata": {},
   "source": [
    "### 총 장소가 2,925개 이다 ###   "
   ]
  },
  {
   "cell_type": "code",
   "execution_count": 5,
   "metadata": {},
   "outputs": [
    {
     "data": {
      "text/plain": [
       "Seoul, Korea                  293\n",
       "서울숲 Seoul Forest Park         164\n",
       "일산 호수 공원 - Ilsan Lake Park    100\n",
       "벚꽃아래                           77\n",
       "Incheon, Korea                 70\n",
       "                             ... \n",
       "서서울호수공원                         1\n",
       "집앞공원                            1\n",
       "경남아구찜                           1\n",
       "두드림발달센터                         1\n",
       "온양여자중학교                         1\n",
       "Name: name, Length: 2925, dtype: int64"
      ]
     },
     "execution_count": 5,
     "metadata": {},
     "output_type": "execute_result"
    }
   ],
   "source": [
    "df.name.value_counts()    #nunique = 2925개 인것임"
   ]
  },
  {
   "cell_type": "code",
   "execution_count": 6,
   "metadata": {},
   "outputs": [
    {
     "data": {
      "text/plain": [
       "0                                                 서서울cc\n",
       "1                                                 Suwon\n",
       "2                                              레이크사이드cc\n",
       "3                                               플라자cc용인\n",
       "4                                               김포한강신도시\n",
       "5                                                   강원도\n",
       "6                                          Seoul, Korea\n",
       "7                                               E-World\n",
       "8                                              여의도 한강공원\n",
       "9                                             Jeju City\n",
       "10                              대구 - Daegu, South Korea\n",
       "11                                              광교아브뉴프랑\n",
       "12                                                제이드가든\n",
       "13                                               회룡 중랑천\n",
       "14    서울 경복궁- Gyeongbokgung Palace, Seoul South Kore...\n",
       "15                                               벚꽃나무아래\n",
       "16                                         Wonju, Korea\n",
       "17                              Seoul, South Korea - 서울\n",
       "18                                              벚꽃나무 아래\n",
       "19                                               하남미사지구\n",
       "20                                                  자하연\n",
       "21                                 Incheon, South Korea\n",
       "22                                                  성당못\n",
       "23                                            서울대공원 동물원\n",
       "24                             올림픽공원 Seoul Olympic Park\n",
       "25                                         Seoul, Korea\n",
       "26                                            한국전통문화대학교\n",
       "27                                        N SEOUL TOWER\n",
       "28                                                동촌유원지\n",
       "29                                               안산호수공원\n",
       "30                                              광교산 산책길\n",
       "31                                                정독도서관\n",
       "32                                             인일여자고등학교\n",
       "33                                                 벚꽃엔딩\n",
       "34                                                   파주\n",
       "35                                      Inha University\n",
       "36                                              경포가시연습지\n",
       "37                                                  양재천\n",
       "38                                   Daegu, South Korea\n",
       "39                                              Jeju-do\n",
       "40                                             인천초은고등학교\n",
       "41                                        홍대입구역 9번출구 근처\n",
       "42                                          Wknd Lounge\n",
       "43                           남산 서울타워 Namsan Seoul Tower\n",
       "44                                                보라매공원\n",
       "45                              Loiter - Coffee Shelter\n",
       "46                                                 벌레소굴\n",
       "47                                  Songdo Central Park\n",
       "48                                            여기가어디게~~~\n",
       "49                                               벚꽃나무아래\n",
       "Name: name, dtype: object"
      ]
     },
     "execution_count": 6,
     "metadata": {},
     "output_type": "execute_result"
    }
   ],
   "source": [
    "df.name[:50]"
   ]
  },
  {
   "cell_type": "code",
   "execution_count": 7,
   "metadata": {},
   "outputs": [],
   "source": [
    "b= pd.DataFrame(df.groupby([\"name\",\"address\"])[\"code\"].count())"
   ]
  },
  {
   "cell_type": "code",
   "execution_count": 8,
   "metadata": {},
   "outputs": [],
   "source": [
    "b1 = b.reset_index().sort_values(\"code\", ascending = False).reset_index()"
   ]
  },
  {
   "cell_type": "code",
   "execution_count": 9,
   "metadata": {},
   "outputs": [
    {
     "data": {
      "text/plain": [
       "0                     Seoul, Korea\n",
       "1            서울숲 Seoul Forest Park\n",
       "2       일산 호수 공원 - Ilsan Lake Park\n",
       "3                   Incheon, Korea\n",
       "4                           석촌호수공원\n",
       "                   ...            \n",
       "3012                          바우지움\n",
       "3013                          반월마을\n",
       "3014                          반포본동\n",
       "3015                       반포주공아파트\n",
       "3016                          힐링힐링\n",
       "Name: name, Length: 3017, dtype: object"
      ]
     },
     "execution_count": 9,
     "metadata": {},
     "output_type": "execute_result"
    }
   ],
   "source": [
    "b1['name']"
   ]
  },
  {
   "cell_type": "code",
   "execution_count": 10,
   "metadata": {},
   "outputs": [
    {
     "data": {
      "text/plain": [
       "2641"
      ]
     },
     "execution_count": 10,
     "metadata": {},
     "output_type": "execute_result"
    }
   ],
   "source": [
    "df0=df[df.address.str.contains('서울')==True]\n",
    "\n",
    "len(df0)"
   ]
  },
  {
   "cell_type": "code",
   "execution_count": 11,
   "metadata": {},
   "outputs": [],
   "source": [
    "df1 =df0[df0.name.str.contains('Seoul, Korea')==False]\n",
    "\n",
    "df2 = df1[df1.name.str.contains('Seoul, South Korea')==False]"
   ]
  },
  {
   "cell_type": "code",
   "execution_count": 12,
   "metadata": {},
   "outputs": [
    {
     "data": {
      "text/plain": [
       "'서울 서초구 잠원동 18-2'"
      ]
     },
     "execution_count": 12,
     "metadata": {},
     "output_type": "execute_result"
    }
   ],
   "source": [
    "df0[df0.name=='Seoul, Korea'].address.value_counts().keys()[0]"
   ]
  },
  {
   "cell_type": "code",
   "execution_count": 13,
   "metadata": {},
   "outputs": [
    {
     "data": {
      "text/plain": [
       "2312"
      ]
     },
     "execution_count": 13,
     "metadata": {},
     "output_type": "execute_result"
    }
   ],
   "source": [
    "len(df2)"
   ]
  },
  {
   "cell_type": "code",
   "execution_count": 14,
   "metadata": {},
   "outputs": [
    {
     "data": {
      "text/plain": [
       "2288"
      ]
     },
     "execution_count": 14,
     "metadata": {},
     "output_type": "execute_result"
    }
   ],
   "source": [
    "df3 =df2[df2.address!=(df0[df0.name=='Seoul, Korea'].address.value_counts().keys()[0])]\n",
    "len(df3)"
   ]
  },
  {
   "cell_type": "code",
   "execution_count": 15,
   "metadata": {},
   "outputs": [
    {
     "data": {
      "text/plain": [
       "서울숲 Seoul Forest Park        164\n",
       "석촌호수공원                        67\n",
       "Seoul National University     45\n",
       "벚꽃아래                          43\n",
       "석촌호수                          42\n",
       "                            ... \n",
       "마포대교                           1\n",
       "화우림                            1\n",
       "전라북도 부안                        1\n",
       "도곡동                            1\n",
       "하트 뿅!♡뿅~!♡                     1\n",
       "Name: name, Length: 822, dtype: int64"
      ]
     },
     "execution_count": 15,
     "metadata": {},
     "output_type": "execute_result"
    }
   ],
   "source": [
    "df3.name.value_counts()"
   ]
  },
  {
   "cell_type": "code",
   "execution_count": 29,
   "metadata": {},
   "outputs": [
    {
     "data": {
      "text/plain": [
       "8       2021-04-07\n",
       "14      2021-04-07\n",
       "15      2021-04-07\n",
       "20      2021-04-07\n",
       "23      2021-04-07\n",
       "           ...    \n",
       "7939    2021-04-06\n",
       "7942    2021-04-06\n",
       "7948    2021-04-06\n",
       "7954    2021-04-06\n",
       "7957    2021-04-06\n",
       "Name: time, Length: 2288, dtype: object"
      ]
     },
     "execution_count": 29,
     "metadata": {},
     "output_type": "execute_result"
    }
   ],
   "source": [
    "df3.time ^[]"
   ]
  },
  {
   "cell_type": "markdown",
   "metadata": {},
   "source": [
    "## df3 : 서울에 점이 822개 찍힐거야 ##"
   ]
  },
  {
   "cell_type": "code",
   "execution_count": 17,
   "metadata": {},
   "outputs": [
    {
     "data": {
      "text/plain": [
       "서울숲 Seoul Forest Park        164\n",
       "석촌호수공원                        67\n",
       "Seoul National University     45\n",
       "벚꽃아래                          43\n",
       "석촌호수                          42\n",
       "                            ... \n",
       "마포대교                           1\n",
       "화우림                            1\n",
       "전라북도 부안                        1\n",
       "도곡동                            1\n",
       "하트 뿅!♡뿅~!♡                     1\n",
       "Name: name, Length: 822, dtype: int64"
      ]
     },
     "execution_count": 17,
     "metadata": {},
     "output_type": "execute_result"
    }
   ],
   "source": [
    "df3.name.value_counts()"
   ]
  },
  {
   "cell_type": "markdown",
   "metadata": {},
   "source": [
    "### 일단 df3까지 ###--------------------------------------------"
   ]
  },
  {
   "cell_type": "code",
   "execution_count": 31,
   "metadata": {},
   "outputs": [
    {
     "data": {
      "text/plain": [
       "Index(['Unnamed: 0', 'num', 'time', 'name', 'latitude', 'longitude', 'likes',\n",
       "       'comments', 'hashtag', 'code', 'address'],\n",
       "      dtype='object')"
      ]
     },
     "execution_count": 31,
     "metadata": {},
     "output_type": "execute_result"
    }
   ],
   "source": [
    "df3.columns"
   ]
  },
  {
   "cell_type": "code",
   "execution_count": 32,
   "metadata": {},
   "outputs": [],
   "source": [
    "df4=df3[df3.time.str.contains('2021')==True]\n"
   ]
  },
  {
   "cell_type": "code",
   "execution_count": 22,
   "metadata": {},
   "outputs": [
    {
     "ename": "NameError",
     "evalue": "name 'geo_seoul' is not defined",
     "output_type": "error",
     "traceback": [
      "\u001b[1;31m---------------------------------------------------------------------------\u001b[0m",
      "\u001b[1;31mNameError\u001b[0m                                 Traceback (most recent call last)",
      "\u001b[1;32m<ipython-input-22-d2aa8dbe6888>\u001b[0m in \u001b[0;36m<module>\u001b[1;34m\u001b[0m\n\u001b[0;32m      1\u001b[0m \u001b[0mmy_map\u001b[0m \u001b[1;33m=\u001b[0m \u001b[0mfolium\u001b[0m\u001b[1;33m.\u001b[0m\u001b[0mMap\u001b[0m\u001b[1;33m(\u001b[0m\u001b[0mlocation\u001b[0m\u001b[1;33m=\u001b[0m\u001b[1;33m[\u001b[0m\u001b[1;36m37.5502\u001b[0m\u001b[1;33m,\u001b[0m \u001b[1;36m126.982\u001b[0m\u001b[1;33m]\u001b[0m\u001b[1;33m,\u001b[0m \u001b[0mtiles\u001b[0m\u001b[1;33m=\u001b[0m\u001b[1;34m'OpenStreetMap'\u001b[0m\u001b[1;33m,\u001b[0m \u001b[0mzoom_start\u001b[0m\u001b[1;33m=\u001b[0m\u001b[1;36m10\u001b[0m\u001b[1;33m)\u001b[0m         \u001b[1;31m# [경도, 위도]\u001b[0m\u001b[1;33m\u001b[0m\u001b[1;33m\u001b[0m\u001b[0m\n\u001b[1;32m----> 2\u001b[1;33m \u001b[0mfolium\u001b[0m\u001b[1;33m.\u001b[0m\u001b[0mChoropleth\u001b[0m\u001b[1;33m(\u001b[0m\u001b[0mgeo_data\u001b[0m\u001b[1;33m=\u001b[0m\u001b[0mgeo_seoul\u001b[0m\u001b[1;33m,\u001b[0m\u001b[0mdata\u001b[0m\u001b[1;33m=\u001b[0m\u001b[0mmy_data_scaled\u001b[0m\u001b[1;33m[\u001b[0m\u001b[1;34m'인구'\u001b[0m\u001b[1;33m]\u001b[0m\u001b[1;33m,\u001b[0m\u001b[0mfill_opacity\u001b[0m\u001b[1;33m=\u001b[0m\u001b[1;36m0.5\u001b[0m\u001b[1;33m,\u001b[0m\u001b[0mfill_color\u001b[0m\u001b[1;33m=\u001b[0m\u001b[1;34m'RdBu'\u001b[0m\u001b[1;33m,\u001b[0m\u001b[0mkey_on\u001b[0m\u001b[1;33m=\u001b[0m\u001b[1;34m'feature.id'\u001b[0m\u001b[1;33m)\u001b[0m\u001b[1;33m.\u001b[0m\u001b[0madd_to\u001b[0m\u001b[1;33m(\u001b[0m\u001b[0mmy_map\u001b[0m\u001b[1;33m)\u001b[0m\u001b[1;33m\u001b[0m\u001b[1;33m\u001b[0m\u001b[0m\n\u001b[0m\u001b[0;32m      3\u001b[0m \u001b[0mmy_map\u001b[0m\u001b[1;33m\u001b[0m\u001b[1;33m\u001b[0m\u001b[0m\n",
      "\u001b[1;31mNameError\u001b[0m: name 'geo_seoul' is not defined"
     ]
    }
   ],
   "source": [
    "my_map = folium.Map(location=[37.5502, 126.982], tiles='OpenStreetMap', zoom_start=10)         # [경도, 위도]\n",
    "folium.Choropleth(geo_data=geo_seoul,data=my_data_scaled['인구'],fill_opacity=0.5,fill_color='RdBu',key_on='feature.id').add_to(my_map)\n",
    "my_map"
   ]
  },
  {
   "cell_type": "code",
   "execution_count": null,
   "metadata": {},
   "outputs": [],
   "source": []
  },
  {
   "cell_type": "code",
   "execution_count": null,
   "metadata": {},
   "outputs": [],
   "source": [
    "s"
   ]
  },
  {
   "cell_type": "code",
   "execution_count": 18,
   "metadata": {},
   "outputs": [
    {
     "data": {
      "text/plain": [
       "37"
      ]
     },
     "execution_count": 18,
     "metadata": {},
     "output_type": "execute_result"
    }
   ],
   "source": [
    "len(df[df['name'].str.contains('제주도')].name)      ## 총 20개 중 4개빼고 날리기 "
   ]
  },
  {
   "cell_type": "code",
   "execution_count": 19,
   "metadata": {},
   "outputs": [
    {
     "data": {
      "text/plain": [
       "'Lotte World Seoul, Korea'"
      ]
     },
     "execution_count": 19,
     "metadata": {},
     "output_type": "execute_result"
    }
   ],
   "source": [
    "'Everland Theme Park & Resort, Korea' \n",
    "    \n",
    "'Chungnam National University, Daejeon, Korea'\n",
    "\n",
    "'Lotte World Seoul, Korea'"
   ]
  },
  {
   "cell_type": "code",
   "execution_count": 20,
   "metadata": {},
   "outputs": [
    {
     "data": {
      "text/plain": [
       "array(['Jeju City', 'Jeju-do', '녹산로 유채꽃도로', '조천읍', '제주도',\n",
       "       '10004ok_coffee', '삼성혈', '애월고등학교', '환상의 섬 Jeju Island', '한라수목원',\n",
       "       '비밀의숲', '항파두리 항몽유적지', '제주대학교', '제주도 삼성혈', '한라산아래첫마을', '상효원 수목원',\n",
       "       '여섯번의 보름, 6times 15days in Jeju', '전농로', '호근동', '제주도 애월읍',\n",
       "       'Jeju Island, Korea', '아줄레주', '전농로 벗꽃길', '가시리 꽃길', '효돈마을',\n",
       "       '도두봉 정상', '어썸스테이',\n",
       "       'Jeju Free International City Development Center', 'Jeju Island',\n",
       "       '노리매', '보름왓', 'Habilis Coffee - 하빌리스', '잔디공장', '오설록', '위미리',\n",
       "       '푸른섬 제주도', '용머리해안', '다람쥐식탁', '서귀포',\n",
       "       '해비치호텔&리조트 - Haevichi hotel & resort', '오라C.C', '제주도 한림',\n",
       "       '제주 함덕 서우봉 해변', '성읍민속마을', '함덕해변', '제주 남원읍', '카멜리아 힐',\n",
       "       '제주신화월드 Jeju Shinhwa World', 'Osulloc Tea Museum', 'Seogwipo',\n",
       "       '신산공원', '드르쿰다인성산', '제대 왕벚꽃길', '조랑말체험공원', '예래생태공원', '사계리 형제해안로',\n",
       "       '제주종합경기장', '켄싱턴리조트 서귀포', '제주대학교 입구 벚꽃길', '오설록티뮤지엄', '三姓穴',\n",
       "       '용연구름다리', '녹산로'], dtype=object)"
      ]
     },
     "execution_count": 20,
     "metadata": {},
     "output_type": "execute_result"
    }
   ],
   "source": [
    "df[df['address'].str.contains('제주')].name.unique()"
   ]
  },
  {
   "cell_type": "code",
   "execution_count": null,
   "metadata": {},
   "outputs": [],
   "source": []
  }
 ],
 "metadata": {
  "kernelspec": {
   "display_name": "Python 3",
   "language": "python",
   "name": "python3"
  },
  "language_info": {
   "codemirror_mode": {
    "name": "ipython",
    "version": 3
   },
   "file_extension": ".py",
   "mimetype": "text/x-python",
   "name": "python",
   "nbconvert_exporter": "python",
   "pygments_lexer": "ipython3",
   "version": "3.8.5"
  }
 },
 "nbformat": 4,
 "nbformat_minor": 4
}
