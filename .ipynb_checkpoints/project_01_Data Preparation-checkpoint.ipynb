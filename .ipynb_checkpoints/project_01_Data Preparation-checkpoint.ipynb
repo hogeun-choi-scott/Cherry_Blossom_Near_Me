{
 "cells": [
  {
   "cell_type": "code",
   "execution_count": 1,
   "metadata": {},
   "outputs": [],
   "source": [
    "import pandas as pd\n",
    "import numpy as np\n",
    "import os\n",
    "import matplotlib.pyplot as plt\n",
    "%matplotlib inline\n",
    "from matplotlib import font_manager, rc\n",
    "font_name = font_manager.FontProperties(fname=\"c:/Windows/Fonts/malgun.ttf\").get_name()\n",
    "rc('font', family=font_name)"
   ]
  },
  {
   "cell_type": "markdown",
   "metadata": {},
   "source": [
    "### 총 7,959개 인스타그램 데이터 크롤링 ### "
   ]
  },
  {
   "cell_type": "code",
   "execution_count": 2,
   "metadata": {},
   "outputs": [],
   "source": [
    "df = pd.read_csv('project1_df2_3.csv')  "
   ]
  },
  {
   "cell_type": "code",
   "execution_count": 3,
   "metadata": {},
   "outputs": [
    {
     "data": {
      "text/plain": [
       "(7959, 11)"
      ]
     },
     "execution_count": 3,
     "metadata": {},
     "output_type": "execute_result"
    }
   ],
   "source": [
    "df.shape"
   ]
  },
  {
   "cell_type": "code",
   "execution_count": 4,
   "metadata": {},
   "outputs": [
    {
     "name": "stdout",
     "output_type": "stream",
     "text": [
      "<class 'pandas.core.frame.DataFrame'>\n",
      "RangeIndex: 7959 entries, 0 to 7958\n",
      "Data columns (total 11 columns):\n",
      " #   Column      Non-Null Count  Dtype  \n",
      "---  ------      --------------  -----  \n",
      " 0   Unnamed: 0  7959 non-null   int64  \n",
      " 1   num         7959 non-null   int64  \n",
      " 2   time        7959 non-null   object \n",
      " 3   name        7959 non-null   object \n",
      " 4   latitude    7959 non-null   float64\n",
      " 5   longitude   7959 non-null   float64\n",
      " 6   likes       7959 non-null   int64  \n",
      " 7   comments    7696 non-null   float64\n",
      " 8   hashtag     7959 non-null   object \n",
      " 9   code        7959 non-null   object \n",
      " 10  address     7959 non-null   object \n",
      "dtypes: float64(3), int64(3), object(5)\n",
      "memory usage: 684.1+ KB\n"
     ]
    }
   ],
   "source": [
    "df.info()"
   ]
  },
  {
   "cell_type": "markdown",
   "metadata": {},
   "source": [
    "### 데이터 전처리 전 - 총 2,925개의 전국 벚꽃 Spot   "
   ]
  },
  {
   "cell_type": "code",
   "execution_count": 5,
   "metadata": {},
   "outputs": [
    {
     "data": {
      "text/plain": [
       "Seoul, Korea                  293\n",
       "서울숲 Seoul Forest Park         164\n",
       "일산 호수 공원 - Ilsan Lake Park    100\n",
       "벚꽃아래                           77\n",
       "Incheon, Korea                 70\n",
       "                             ... \n",
       "장자못호수공원                         1\n",
       "침산정                             1\n",
       "유식물원 오토캠핑장                      1\n",
       "상효원 수목원                         1\n",
       "Soonchunhyang University        1\n",
       "Name: name, Length: 2925, dtype: int64"
      ]
     },
     "execution_count": 5,
     "metadata": {},
     "output_type": "execute_result"
    }
   ],
   "source": [
    "df.name.value_counts()    "
   ]
  },
  {
   "cell_type": "code",
   "execution_count": 6,
   "metadata": {},
   "outputs": [
    {
     "data": {
      "text/plain": [
       "0                                                 서서울cc\n",
       "1                                                 Suwon\n",
       "2                                              레이크사이드cc\n",
       "3                                               플라자cc용인\n",
       "4                                               김포한강신도시\n",
       "5                                                   강원도\n",
       "6                                          Seoul, Korea\n",
       "7                                               E-World\n",
       "8                                              여의도 한강공원\n",
       "9                                             Jeju City\n",
       "10                              대구 - Daegu, South Korea\n",
       "11                                              광교아브뉴프랑\n",
       "12                                                제이드가든\n",
       "13                                               회룡 중랑천\n",
       "14    서울 경복궁- Gyeongbokgung Palace, Seoul South Kore...\n",
       "15                                               벚꽃나무아래\n",
       "16                                         Wonju, Korea\n",
       "17                              Seoul, South Korea - 서울\n",
       "18                                              벚꽃나무 아래\n",
       "19                                               하남미사지구\n",
       "20                                                  자하연\n",
       "21                                 Incheon, South Korea\n",
       "22                                                  성당못\n",
       "23                                            서울대공원 동물원\n",
       "24                             올림픽공원 Seoul Olympic Park\n",
       "25                                         Seoul, Korea\n",
       "26                                            한국전통문화대학교\n",
       "27                                        N SEOUL TOWER\n",
       "28                                                동촌유원지\n",
       "29                                               안산호수공원\n",
       "30                                              광교산 산책길\n",
       "31                                                정독도서관\n",
       "32                                             인일여자고등학교\n",
       "33                                                 벚꽃엔딩\n",
       "34                                                   파주\n",
       "35                                      Inha University\n",
       "36                                              경포가시연습지\n",
       "37                                                  양재천\n",
       "38                                   Daegu, South Korea\n",
       "39                                              Jeju-do\n",
       "40                                             인천초은고등학교\n",
       "41                                        홍대입구역 9번출구 근처\n",
       "42                                          Wknd Lounge\n",
       "43                           남산 서울타워 Namsan Seoul Tower\n",
       "44                                                보라매공원\n",
       "45                              Loiter - Coffee Shelter\n",
       "46                                                 벌레소굴\n",
       "47                                  Songdo Central Park\n",
       "48                                            여기가어디게~~~\n",
       "49                                               벚꽃나무아래\n",
       "Name: name, dtype: object"
      ]
     },
     "execution_count": 6,
     "metadata": {},
     "output_type": "execute_result"
    }
   ],
   "source": [
    "df.name[:50]"
   ]
  },
  {
   "cell_type": "code",
   "execution_count": 7,
   "metadata": {},
   "outputs": [
    {
     "data": {
      "text/html": [
       "<div>\n",
       "<style scoped>\n",
       "    .dataframe tbody tr th:only-of-type {\n",
       "        vertical-align: middle;\n",
       "    }\n",
       "\n",
       "    .dataframe tbody tr th {\n",
       "        vertical-align: top;\n",
       "    }\n",
       "\n",
       "    .dataframe thead th {\n",
       "        text-align: right;\n",
       "    }\n",
       "</style>\n",
       "<table border=\"1\" class=\"dataframe\">\n",
       "  <thead>\n",
       "    <tr style=\"text-align: right;\">\n",
       "      <th></th>\n",
       "      <th></th>\n",
       "      <th>code</th>\n",
       "    </tr>\n",
       "    <tr>\n",
       "      <th>name</th>\n",
       "      <th>address</th>\n",
       "      <th></th>\n",
       "    </tr>\n",
       "  </thead>\n",
       "  <tbody>\n",
       "    <tr>\n",
       "      <th>10004ok_coffee</th>\n",
       "      <th>제주특별자치도 제주시 삼도이동 1230-4</th>\n",
       "      <td>1</td>\n",
       "    </tr>\n",
       "    <tr>\n",
       "      <th>170cafe_pub</th>\n",
       "      <th>서울 강남구 삼성동 111-124</th>\n",
       "      <td>1</td>\n",
       "    </tr>\n",
       "    <tr>\n",
       "      <th>1년 전</th>\n",
       "      <th>서울 성동구 사근동 110</th>\n",
       "      <td>1</td>\n",
       "    </tr>\n",
       "    <tr>\n",
       "      <th>275치과의원</th>\n",
       "      <th>경기 광주시 태전동 702-34</th>\n",
       "      <td>1</td>\n",
       "    </tr>\n",
       "    <tr>\n",
       "      <th>291 Photographs' 사진의 모든 곳</th>\n",
       "      <th>서울 송파구 신천동 29</th>\n",
       "      <td>1</td>\n",
       "    </tr>\n",
       "    <tr>\n",
       "      <th>...</th>\n",
       "      <th>...</th>\n",
       "      <td>...</td>\n",
       "    </tr>\n",
       "    <tr>\n",
       "      <th>흥업쉼터</th>\n",
       "      <th>강원 원주시 흥업면 흥업리 232</th>\n",
       "      <td>1</td>\n",
       "    </tr>\n",
       "    <tr>\n",
       "      <th>희우정로벚꽃길</th>\n",
       "      <th>서울 마포구 합정동 445-14</th>\n",
       "      <td>1</td>\n",
       "    </tr>\n",
       "    <tr>\n",
       "      <th>힐드로사이CC</th>\n",
       "      <th>강원 홍천군 남면 화전리 1711</th>\n",
       "      <td>1</td>\n",
       "    </tr>\n",
       "    <tr>\n",
       "      <th>힐링그라운드</th>\n",
       "      <th>경기 파주시 상지석동 111-3</th>\n",
       "      <td>1</td>\n",
       "    </tr>\n",
       "    <tr>\n",
       "      <th>힐링힐링</th>\n",
       "      <th>서울 노원구 상계동 757</th>\n",
       "      <td>1</td>\n",
       "    </tr>\n",
       "  </tbody>\n",
       "</table>\n",
       "<p>3017 rows × 1 columns</p>\n",
       "</div>"
      ],
      "text/plain": [
       "                                                   code\n",
       "name                      address                      \n",
       "10004ok_coffee            제주특별자치도 제주시 삼도이동 1230-4     1\n",
       "170cafe_pub               서울 강남구 삼성동 111-124          1\n",
       "1년 전                      서울 성동구 사근동 110              1\n",
       "275치과의원                   경기 광주시 태전동 702-34           1\n",
       "291 Photographs' 사진의 모든 곳 서울 송파구 신천동 29               1\n",
       "...                                                 ...\n",
       "흥업쉼터                      강원 원주시 흥업면 흥업리 232          1\n",
       "희우정로벚꽃길                   서울 마포구 합정동 445-14           1\n",
       "힐드로사이CC                   강원 홍천군 남면 화전리 1711          1\n",
       "힐링그라운드                    경기 파주시 상지석동 111-3           1\n",
       "힐링힐링                      서울 노원구 상계동 757              1\n",
       "\n",
       "[3017 rows x 1 columns]"
      ]
     },
     "execution_count": 7,
     "metadata": {},
     "output_type": "execute_result"
    }
   ],
   "source": [
    "b= pd.DataFrame(df.groupby([\"name\",\"address\"])[\"code\"].count())\n",
    "\n",
    "b"
   ]
  },
  {
   "cell_type": "code",
   "execution_count": 8,
   "metadata": {},
   "outputs": [
    {
     "data": {
      "text/html": [
       "<div>\n",
       "<style scoped>\n",
       "    .dataframe tbody tr th:only-of-type {\n",
       "        vertical-align: middle;\n",
       "    }\n",
       "\n",
       "    .dataframe tbody tr th {\n",
       "        vertical-align: top;\n",
       "    }\n",
       "\n",
       "    .dataframe thead th {\n",
       "        text-align: right;\n",
       "    }\n",
       "</style>\n",
       "<table border=\"1\" class=\"dataframe\">\n",
       "  <thead>\n",
       "    <tr style=\"text-align: right;\">\n",
       "      <th></th>\n",
       "      <th>index</th>\n",
       "      <th>name</th>\n",
       "      <th>address</th>\n",
       "      <th>code</th>\n",
       "    </tr>\n",
       "  </thead>\n",
       "  <tbody>\n",
       "    <tr>\n",
       "      <th>0</th>\n",
       "      <td>300</td>\n",
       "      <td>Seoul, Korea</td>\n",
       "      <td>서울 서초구 잠원동 18-2</td>\n",
       "      <td>293</td>\n",
       "    </tr>\n",
       "    <tr>\n",
       "      <th>1</th>\n",
       "      <td>1555</td>\n",
       "      <td>서울숲 Seoul Forest Park</td>\n",
       "      <td>서울 성동구 성수동1가 685-20</td>\n",
       "      <td>164</td>\n",
       "    </tr>\n",
       "    <tr>\n",
       "      <th>2</th>\n",
       "      <td>2358</td>\n",
       "      <td>일산 호수 공원 - Ilsan Lake Park</td>\n",
       "      <td>경기 고양시 일산동구 장항동 906</td>\n",
       "      <td>100</td>\n",
       "    </tr>\n",
       "    <tr>\n",
       "      <th>3</th>\n",
       "      <td>185</td>\n",
       "      <td>Incheon, Korea</td>\n",
       "      <td>인천 중구 율목동 162-1</td>\n",
       "      <td>70</td>\n",
       "    </tr>\n",
       "    <tr>\n",
       "      <th>4</th>\n",
       "      <td>1600</td>\n",
       "      <td>석촌호수공원</td>\n",
       "      <td>서울 송파구 신천동 31</td>\n",
       "      <td>67</td>\n",
       "    </tr>\n",
       "    <tr>\n",
       "      <th>...</th>\n",
       "      <td>...</td>\n",
       "      <td>...</td>\n",
       "      <td>...</td>\n",
       "      <td>...</td>\n",
       "    </tr>\n",
       "    <tr>\n",
       "      <th>3012</th>\n",
       "      <td>1225</td>\n",
       "      <td>바우지움</td>\n",
       "      <td>강원 고성군 토성면 원암리 287</td>\n",
       "      <td>1</td>\n",
       "    </tr>\n",
       "    <tr>\n",
       "      <th>3013</th>\n",
       "      <td>1226</td>\n",
       "      <td>반월마을</td>\n",
       "      <td>전남 여수시 율촌면 반월리 809</td>\n",
       "      <td>1</td>\n",
       "    </tr>\n",
       "    <tr>\n",
       "      <th>3014</th>\n",
       "      <td>1229</td>\n",
       "      <td>반포본동</td>\n",
       "      <td>서울 서초구 반포동 1272</td>\n",
       "      <td>1</td>\n",
       "    </tr>\n",
       "    <tr>\n",
       "      <th>3015</th>\n",
       "      <td>1230</td>\n",
       "      <td>반포주공아파트</td>\n",
       "      <td>서울 서초구 반포동 869</td>\n",
       "      <td>1</td>\n",
       "    </tr>\n",
       "    <tr>\n",
       "      <th>3016</th>\n",
       "      <td>3016</td>\n",
       "      <td>힐링힐링</td>\n",
       "      <td>서울 노원구 상계동 757</td>\n",
       "      <td>1</td>\n",
       "    </tr>\n",
       "  </tbody>\n",
       "</table>\n",
       "<p>3017 rows × 4 columns</p>\n",
       "</div>"
      ],
      "text/plain": [
       "      index                        name              address  code\n",
       "0       300                Seoul, Korea      서울 서초구 잠원동 18-2   293\n",
       "1      1555       서울숲 Seoul Forest Park  서울 성동구 성수동1가 685-20   164\n",
       "2      2358  일산 호수 공원 - Ilsan Lake Park  경기 고양시 일산동구 장항동 906   100\n",
       "3       185              Incheon, Korea      인천 중구 율목동 162-1    70\n",
       "4      1600                      석촌호수공원        서울 송파구 신천동 31    67\n",
       "...     ...                         ...                  ...   ...\n",
       "3012   1225                        바우지움   강원 고성군 토성면 원암리 287     1\n",
       "3013   1226                        반월마을   전남 여수시 율촌면 반월리 809     1\n",
       "3014   1229                        반포본동      서울 서초구 반포동 1272     1\n",
       "3015   1230                     반포주공아파트       서울 서초구 반포동 869     1\n",
       "3016   3016                        힐링힐링       서울 노원구 상계동 757     1\n",
       "\n",
       "[3017 rows x 4 columns]"
      ]
     },
     "execution_count": 8,
     "metadata": {},
     "output_type": "execute_result"
    }
   ],
   "source": [
    "b1 = b.reset_index().sort_values(\"code\", ascending = False).reset_index()\n",
    "\n",
    "b1"
   ]
  },
  {
   "cell_type": "code",
   "execution_count": 9,
   "metadata": {},
   "outputs": [
    {
     "data": {
      "text/plain": [
       "0                     Seoul, Korea\n",
       "1            서울숲 Seoul Forest Park\n",
       "2       일산 호수 공원 - Ilsan Lake Park\n",
       "3                   Incheon, Korea\n",
       "4                           석촌호수공원\n",
       "                   ...            \n",
       "3012                          바우지움\n",
       "3013                          반월마을\n",
       "3014                          반포본동\n",
       "3015                       반포주공아파트\n",
       "3016                          힐링힐링\n",
       "Name: name, Length: 3017, dtype: object"
      ]
     },
     "execution_count": 9,
     "metadata": {},
     "output_type": "execute_result"
    }
   ],
   "source": [
    "b1['name']"
   ]
  },
  {
   "cell_type": "markdown",
   "metadata": {},
   "source": [
    "### 데이터 전처리 후 - 총 819개의 서울 벚꽃 Spot "
   ]
  },
  {
   "cell_type": "code",
   "execution_count": 10,
   "metadata": {},
   "outputs": [
    {
     "ename": "NameError",
     "evalue": "name 'df4' is not defined",
     "output_type": "error",
     "traceback": [
      "\u001b[1;31m---------------------------------------------------------------------------\u001b[0m",
      "\u001b[1;31mNameError\u001b[0m                                 Traceback (most recent call last)",
      "\u001b[1;32m<ipython-input-10-119f681f9411>\u001b[0m in \u001b[0;36m<module>\u001b[1;34m\u001b[0m\n\u001b[1;32m----> 1\u001b[1;33m \u001b[0mdf4\u001b[0m\u001b[1;33m.\u001b[0m\u001b[0mname\u001b[0m\u001b[1;33m.\u001b[0m\u001b[0mvalue_counts\u001b[0m\u001b[1;33m(\u001b[0m\u001b[1;33m)\u001b[0m\u001b[1;33m\u001b[0m\u001b[1;33m\u001b[0m\u001b[0m\n\u001b[0m",
      "\u001b[1;31mNameError\u001b[0m: name 'df4' is not defined"
     ]
    }
   ],
   "source": [
    "df4.name.value_counts()"
   ]
  },
  {
   "cell_type": "markdown",
   "metadata": {},
   "source": [
    "### 데이터 전처리 - 총 2,285개의 크롤링 데이터"
   ]
  },
  {
   "cell_type": "code",
   "execution_count": 11,
   "metadata": {},
   "outputs": [
    {
     "data": {
      "text/plain": [
       "2641"
      ]
     },
     "execution_count": 11,
     "metadata": {},
     "output_type": "execute_result"
    }
   ],
   "source": [
    "df0=df[df.address.str.contains('서울')==True]\n",
    "\n",
    "len(df0)"
   ]
  },
  {
   "cell_type": "code",
   "execution_count": 12,
   "metadata": {},
   "outputs": [
    {
     "data": {
      "text/plain": [
       "2344"
      ]
     },
     "execution_count": 12,
     "metadata": {},
     "output_type": "execute_result"
    }
   ],
   "source": [
    "df1 =df0[df0.name.str.contains('Seoul, Korea')==False]\n",
    "\n",
    "len(df1)"
   ]
  },
  {
   "cell_type": "code",
   "execution_count": 13,
   "metadata": {},
   "outputs": [
    {
     "data": {
      "text/plain": [
       "2312"
      ]
     },
     "execution_count": 13,
     "metadata": {},
     "output_type": "execute_result"
    }
   ],
   "source": [
    "df2 = df1[df1.name.str.contains('Seoul, South Korea')==False]\n",
    "\n",
    "len(df2)"
   ]
  },
  {
   "cell_type": "code",
   "execution_count": 14,
   "metadata": {},
   "outputs": [
    {
     "data": {
      "text/plain": [
       "2288"
      ]
     },
     "execution_count": 14,
     "metadata": {},
     "output_type": "execute_result"
    }
   ],
   "source": [
    "df3 =df2[df2.address!=(df0[df0.name=='Seoul, Korea'].address.value_counts().keys()[0])]\n",
    "\n",
    "len(df3)"
   ]
  },
  {
   "cell_type": "code",
   "execution_count": 15,
   "metadata": {},
   "outputs": [
    {
     "data": {
      "text/plain": [
       "2285"
      ]
     },
     "execution_count": 15,
     "metadata": {},
     "output_type": "execute_result"
    }
   ],
   "source": [
    "df4=df3[df3.time.str.contains('2021')==True]\n",
    "\n",
    "len(df4)"
   ]
  },
  {
   "cell_type": "markdown",
   "metadata": {},
   "source": [
    "### 총 819개의 Spot"
   ]
  },
  {
   "cell_type": "code",
   "execution_count": 16,
   "metadata": {},
   "outputs": [
    {
     "data": {
      "text/plain": [
       "서울숲 Seoul Forest Park        164\n",
       "석촌호수공원                        67\n",
       "Seoul National University     45\n",
       "벚꽃아래                          43\n",
       "석촌호수                          42\n",
       "                            ... \n",
       "서울특별시 서대문구 남가좌동                1\n",
       "Cafe Mcnulty                   1\n",
       "타르틴 베이커리 도산                    1\n",
       "주식갤러리                          1\n",
       "신당 삼성래미안                       1\n",
       "Name: name, Length: 819, dtype: int64"
      ]
     },
     "execution_count": 16,
     "metadata": {},
     "output_type": "execute_result"
    }
   ],
   "source": [
    "df4.name.value_counts()"
   ]
  },
  {
   "cell_type": "code",
   "execution_count": 17,
   "metadata": {},
   "outputs": [
    {
     "data": {
      "text/plain": [
       "6553    20\n",
       "94      20\n",
       "4024    20\n",
       "2589    20\n",
       "34      21\n",
       "5338    21\n",
       "1421    21\n",
       "1400    21\n",
       "4734    21\n",
       "5516    21\n",
       "6402    21\n",
       "7383    21\n",
       "93      21\n",
       "6672    21\n",
       "6108    21\n",
       "4606    21\n",
       "2938    21\n",
       "2940    21\n",
       "998     21\n",
       "1820    21\n",
       "4415    21\n",
       "2452    21\n",
       "5138    21\n",
       "918     21\n",
       "7386    21\n",
       "4379    21\n",
       "6628    22\n",
       "4850    22\n",
       "3692    22\n",
       "794     22\n",
       "5856    22\n",
       "5578    22\n",
       "1333    22\n",
       "344     22\n",
       "7545    22\n",
       "2332    22\n",
       "5936    22\n",
       "5700    22\n",
       "604     22\n",
       "4272    22\n",
       "2232    22\n",
       "2564    22\n",
       "4637    22\n",
       "688     22\n",
       "1495    22\n",
       "1037    22\n",
       "2281    22\n",
       "6434    22\n",
       "539     22\n",
       "1245    22\n",
       "Name: likes, dtype: int64"
      ]
     },
     "execution_count": 17,
     "metadata": {},
     "output_type": "execute_result"
    }
   ],
   "source": [
    "df3.likes.sort_values()[500:550]"
   ]
  },
  {
   "cell_type": "markdown",
   "metadata": {},
   "source": [
    "### 04.09 여기부터 다시 시작 ##"
   ]
  },
  {
   "cell_type": "code",
   "execution_count": 72,
   "metadata": {},
   "outputs": [],
   "source": [
    "df4_a = pd.DataFrame(df4.time.value_counts())"
   ]
  },
  {
   "cell_type": "code",
   "execution_count": 109,
   "metadata": {},
   "outputs": [
    {
     "data": {
      "text/html": [
       "<div>\n",
       "<style scoped>\n",
       "    .dataframe tbody tr th:only-of-type {\n",
       "        vertical-align: middle;\n",
       "    }\n",
       "\n",
       "    .dataframe tbody tr th {\n",
       "        vertical-align: top;\n",
       "    }\n",
       "\n",
       "    .dataframe thead th {\n",
       "        text-align: right;\n",
       "    }\n",
       "</style>\n",
       "<table border=\"1\" class=\"dataframe\">\n",
       "  <thead>\n",
       "    <tr style=\"text-align: right;\">\n",
       "      <th></th>\n",
       "      <th>time</th>\n",
       "    </tr>\n",
       "  </thead>\n",
       "  <tbody>\n",
       "    <tr>\n",
       "      <th>2021-04-07</th>\n",
       "      <td>1253</td>\n",
       "    </tr>\n",
       "    <tr>\n",
       "      <th>2021-04-06</th>\n",
       "      <td>944</td>\n",
       "    </tr>\n",
       "    <tr>\n",
       "      <th>2021-04-05</th>\n",
       "      <td>20</td>\n",
       "    </tr>\n",
       "    <tr>\n",
       "      <th>2021-04-01</th>\n",
       "      <td>18</td>\n",
       "    </tr>\n",
       "    <tr>\n",
       "      <th>2021-04-03</th>\n",
       "      <td>11</td>\n",
       "    </tr>\n",
       "    <tr>\n",
       "      <th>2021-04-04</th>\n",
       "      <td>10</td>\n",
       "    </tr>\n",
       "    <tr>\n",
       "      <th>2021-04-02</th>\n",
       "      <td>10</td>\n",
       "    </tr>\n",
       "    <tr>\n",
       "      <th>2021-03-31</th>\n",
       "      <td>5</td>\n",
       "    </tr>\n",
       "    <tr>\n",
       "      <th>2021-03-29</th>\n",
       "      <td>3</td>\n",
       "    </tr>\n",
       "    <tr>\n",
       "      <th>2021-03-22</th>\n",
       "      <td>2</td>\n",
       "    </tr>\n",
       "    <tr>\n",
       "      <th>2021-03-14</th>\n",
       "      <td>2</td>\n",
       "    </tr>\n",
       "    <tr>\n",
       "      <th>2021-03-27</th>\n",
       "      <td>1</td>\n",
       "    </tr>\n",
       "    <tr>\n",
       "      <th>2021-03-18</th>\n",
       "      <td>1</td>\n",
       "    </tr>\n",
       "    <tr>\n",
       "      <th>2021-03-09</th>\n",
       "      <td>1</td>\n",
       "    </tr>\n",
       "    <tr>\n",
       "      <th>2021-03-28</th>\n",
       "      <td>1</td>\n",
       "    </tr>\n",
       "    <tr>\n",
       "      <th>2021-03-26</th>\n",
       "      <td>1</td>\n",
       "    </tr>\n",
       "    <tr>\n",
       "      <th>2021-02-19</th>\n",
       "      <td>1</td>\n",
       "    </tr>\n",
       "    <tr>\n",
       "      <th>2021-03-02</th>\n",
       "      <td>1</td>\n",
       "    </tr>\n",
       "  </tbody>\n",
       "</table>\n",
       "</div>"
      ],
      "text/plain": [
       "            time\n",
       "2021-04-07  1253\n",
       "2021-04-06   944\n",
       "2021-04-05    20\n",
       "2021-04-01    18\n",
       "2021-04-03    11\n",
       "2021-04-04    10\n",
       "2021-04-02    10\n",
       "2021-03-31     5\n",
       "2021-03-29     3\n",
       "2021-03-22     2\n",
       "2021-03-14     2\n",
       "2021-03-27     1\n",
       "2021-03-18     1\n",
       "2021-03-09     1\n",
       "2021-03-28     1\n",
       "2021-03-26     1\n",
       "2021-02-19     1\n",
       "2021-03-02     1"
      ]
     },
     "execution_count": 109,
     "metadata": {},
     "output_type": "execute_result"
    }
   ],
   "source": [
    "df4_a"
   ]
  },
  {
   "cell_type": "code",
   "execution_count": 169,
   "metadata": {},
   "outputs": [],
   "source": [
    "group_names = df4_a.index.tolist()\n",
    "group_sizes_old = df4_a.values.tolist()"
   ]
  },
  {
   "cell_type": "code",
   "execution_count": 170,
   "metadata": {},
   "outputs": [],
   "source": [
    "group_sizes = []\n",
    "for element in group_sizes_old:\n",
    "    group_sizes += element"
   ]
  },
  {
   "cell_type": "code",
   "execution_count": 171,
   "metadata": {},
   "outputs": [],
   "source": [
    "group_sizes_valid = list(np.array(group_sizes)[np.array(group_sizes) > 100])"
   ]
  },
  {
   "cell_type": "code",
   "execution_count": 172,
   "metadata": {},
   "outputs": [],
   "source": [
    "group_sizes_invalid = list(np.array(group_sizes)[np.array(group_sizes) < 100])"
   ]
  },
  {
   "cell_type": "code",
   "execution_count": 173,
   "metadata": {},
   "outputs": [],
   "source": [
    "group_sizes_valid.append(sum(group_sizes_invalid))"
   ]
  },
  {
   "cell_type": "code",
   "execution_count": 174,
   "metadata": {},
   "outputs": [
    {
     "data": {
      "text/plain": [
       "[1253, 944, 88]"
      ]
     },
     "execution_count": 174,
     "metadata": {},
     "output_type": "execute_result"
    }
   ],
   "source": [
    "group_sizes_valid"
   ]
  },
  {
   "cell_type": "code",
   "execution_count": 175,
   "metadata": {},
   "outputs": [
    {
     "data": {
      "text/plain": [
       "[array([ True,  True, False, False, False, False, False, False, False,\n",
       "        False, False, False, False, False, False, False, False, False])]"
      ]
     },
     "execution_count": 175,
     "metadata": {},
     "output_type": "execute_result"
    }
   ],
   "source": [
    "[np.array(group_sizes) > 100]"
   ]
  },
  {
   "cell_type": "code",
   "execution_count": 176,
   "metadata": {},
   "outputs": [
    {
     "data": {
      "text/plain": [
       "['2021-04-07', '2021-04-06']"
      ]
     },
     "execution_count": 176,
     "metadata": {},
     "output_type": "execute_result"
    }
   ],
   "source": [
    "list(np.array(group_names)[np.array(group_sizes) > 100])"
   ]
  },
  {
   "cell_type": "code",
   "execution_count": 177,
   "metadata": {},
   "outputs": [],
   "source": [
    "group_names_valid = list(np.array(group_names)[np.array(group_sizes) > 100])"
   ]
  },
  {
   "cell_type": "code",
   "execution_count": 178,
   "metadata": {},
   "outputs": [],
   "source": [
    "group_names_valid.append('ETC')"
   ]
  },
  {
   "cell_type": "code",
   "execution_count": null,
   "metadata": {},
   "outputs": [],
   "source": [
    "d"
   ]
  },
  {
   "cell_type": "code",
   "execution_count": 186,
   "metadata": {},
   "outputs": [
    {
     "data": {
      "image/png": "[encoded data removed]",
      "text/plain": [
       "<Figure size 432x288 with 1 Axes>"
      ]
     },
     "metadata": {},
     "output_type": "display_data"
    }
   ],
   "source": [
    "group_colors = ['yellowgreen', 'lightskyblue', 'lightcoral']\n",
    "group_explodes = (0.1, 0, 0) # explode 1st slice        \n",
    "# information of groups\n",
    "group_names = group_names_valid\n",
    "group_sizes = group_sizes_valid\n",
    "group_colors = ['pink', 'lightcoral', 'yellowgreen']\n",
    "group_explodes = (0.1, 0.1, 0.1) # explode 1st slice\n",
    "# Pie chart\n",
    "plt.pie(group_sizes, \n",
    "        explode=group_explodes, \n",
    "        labels=group_names, \n",
    "        colors=group_colors, \n",
    "        autopct='%1.2f%%', # second decimal place\n",
    "        shadow=True, \n",
    "        startangle=90,\n",
    "        textprops={'fontsize': 14}) # text font size\n",
    "plt.axis('equal') #  equal length of X and Y axis\n",
    "plt.title('날짜별 포스트 수 \\n', fontsize=15)\n",
    "plt.show()"
   ]
  },
  {
   "cell_type": "code",
   "execution_count": 61,
   "metadata": {},
   "outputs": [
    {
     "data": {
      "image/png": "[encoded data removed]",
      "text/plain": [
       "<Figure size 432x288 with 1 Axes>"
      ]
     },
     "metadata": {
      "needs_background": "light"
     },
     "output_type": "display_data"
    }
   ],
   "source": [
    "sns.barplot(x=df4_a.index, y=df4_a.time, data=df4_a, color='pink')\n",
    "\n",
    "plt.show()"
   ]
  },
  {
   "cell_type": "markdown",
   "metadata": {},
   "source": [
    "### df5, df6 만들어서 상관관계 확인해보려고 했으나 실패 ### "
   ]
  },
  {
   "cell_type": "code",
   "execution_count": null,
   "metadata": {},
   "outputs": [],
   "source": [
    "df4"
   ]
  },
  {
   "cell_type": "code",
   "execution_count": null,
   "metadata": {},
   "outputs": [],
   "source": [
    "df4_a = df4.groupby(\"name\")['likes'].sum()"
   ]
  },
  {
   "cell_type": "code",
   "execution_count": null,
   "metadata": {},
   "outputs": [],
   "source": [
    "df4_a = df4_a.reset_index()"
   ]
  },
  {
   "cell_type": "code",
   "execution_count": null,
   "metadata": {
    "scrolled": true
   },
   "outputs": [],
   "source": [
    "df4_a"
   ]
  },
  {
   "cell_type": "code",
   "execution_count": null,
   "metadata": {},
   "outputs": [],
   "source": [
    "df4_b = df4.value_counts('name').reset_index()"
   ]
  },
  {
   "cell_type": "code",
   "execution_count": null,
   "metadata": {},
   "outputs": [],
   "source": [
    "df4_b =df4_b.rename(columns = {'name':'name',0: \"numb_posts\"})"
   ]
  },
  {
   "cell_type": "code",
   "execution_count": null,
   "metadata": {},
   "outputs": [],
   "source": [
    "df5=df4_a.merge(df4_b, on = \"name\")\n",
    "\n",
    "df5"
   ]
  },
  {
   "cell_type": "code",
   "execution_count": null,
   "metadata": {},
   "outputs": [],
   "source": [
    "sns.jointplot(x='likes', y='numb_posts', data=df5, color='purple', kind='scatter')\n",
    "plt.show()"
   ]
  },
  {
   "cell_type": "code",
   "execution_count": null,
   "metadata": {},
   "outputs": [],
   "source": [
    "df5.likes.mean()"
   ]
  },
  {
   "cell_type": "code",
   "execution_count": null,
   "metadata": {},
   "outputs": [],
   "source": [
    "df5.likes.max()"
   ]
  },
  {
   "cell_type": "code",
   "execution_count": null,
   "metadata": {},
   "outputs": [],
   "source": [
    "df6 = df5[df5.likes < 2000]"
   ]
  },
  {
   "cell_type": "code",
   "execution_count": null,
   "metadata": {},
   "outputs": [],
   "source": [
    "df6.likes.max()"
   ]
  },
  {
   "cell_type": "code",
   "execution_count": null,
   "metadata": {},
   "outputs": [],
   "source": [
    "sns.jointplot(x='likes', y='numb_posts', data=df6, color='pink', kind='scatter')\n",
    "plt.show()"
   ]
  },
  {
   "cell_type": "code",
   "execution_count": null,
   "metadata": {},
   "outputs": [],
   "source": [
    "df4_c = df4.groupby(\"name\")['likes'].mean()"
   ]
  },
  {
   "cell_type": "code",
   "execution_count": null,
   "metadata": {},
   "outputs": [],
   "source": [
    "df4_c = df4_c.reset_index()"
   ]
  },
  {
   "cell_type": "code",
   "execution_count": null,
   "metadata": {},
   "outputs": [],
   "source": [
    "df4_c = df4_c.astype('string')\n",
    "print(df4_c.dtypes)"
   ]
  },
  {
   "cell_type": "code",
   "execution_count": null,
   "metadata": {},
   "outputs": [],
   "source": [
    "df4_c"
   ]
  },
  {
   "cell_type": "code",
   "execution_count": null,
   "metadata": {},
   "outputs": [],
   "source": [
    "df4_d = df4.value_counts('name').reset_index()"
   ]
  },
  {
   "cell_type": "code",
   "execution_count": null,
   "metadata": {},
   "outputs": [],
   "source": [
    "df4_d =df4_d.rename(columns = {'name':'name',0: \"numb_posts\"})"
   ]
  },
  {
   "cell_type": "code",
   "execution_count": null,
   "metadata": {},
   "outputs": [],
   "source": [
    "df6=df4_c.merge(df4_d, on = \"name\")\n",
    "\n",
    "df6"
   ]
  },
  {
   "cell_type": "code",
   "execution_count": null,
   "metadata": {},
   "outputs": [],
   "source": [
    "sns.jointplot(x='numb_posts', y='likes', data=df6, color='purple', kind='scatter')\n",
    "plt.show()"
   ]
  },
  {
   "cell_type": "code",
   "execution_count": null,
   "metadata": {},
   "outputs": [],
   "source": []
  }
 ],
 "metadata": {
  "kernelspec": {
   "display_name": "Python 3",
   "language": "python",
   "name": "python3"
  },
  "language_info": {
   "codemirror_mode": {
    "name": "ipython",
    "version": 3
   },
   "file_extension": ".py",
   "mimetype": "text/x-python",
   "name": "python",
   "nbconvert_exporter": "python",
   "pygments_lexer": "ipython3",
   "version": "3.8.5"
  }
 },
 "nbformat": 4,
 "nbformat_minor": 4
}
