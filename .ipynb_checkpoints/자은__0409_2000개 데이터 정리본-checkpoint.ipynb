{
 "cells": [
  {
   "cell_type": "code",
   "execution_count": 1,
   "metadata": {},
   "outputs": [],
   "source": [
    "import pandas as pd\n",
    "import numpy as np\n",
    "import os\n",
    "import matplotlib.pyplot as plt\n",
    "%matplotlib inline\n",
    "from matplotlib import font_manager, rc\n",
    "font_name = font_manager.FontProperties(fname=\"c:/Windows/Fonts/malgun.ttf\").get_name()\n",
    "rc('font', family=font_name)"
   ]
  },
  {
   "cell_type": "markdown",
   "metadata": {},
   "source": [
    "### 총 7,959개 인스타그램 데이터 크롤링 ### "
   ]
  },
  {
   "cell_type": "code",
   "execution_count": 2,
   "metadata": {},
   "outputs": [],
   "source": [
    "df = pd.read_csv('project1_df2_3.csv')  "
   ]
  },
  {
   "cell_type": "code",
   "execution_count": 3,
   "metadata": {},
   "outputs": [
    {
     "data": {
      "text/plain": [
       "(7959, 11)"
      ]
     },
     "execution_count": 3,
     "metadata": {},
     "output_type": "execute_result"
    }
   ],
   "source": [
    "df.shape"
   ]
  },
  {
   "cell_type": "code",
   "execution_count": 4,
   "metadata": {},
   "outputs": [
    {
     "name": "stdout",
     "output_type": "stream",
     "text": [
      "<class 'pandas.core.frame.DataFrame'>\n",
      "RangeIndex: 7959 entries, 0 to 7958\n",
      "Data columns (total 11 columns):\n",
      " #   Column      Non-Null Count  Dtype  \n",
      "---  ------      --------------  -----  \n",
      " 0   Unnamed: 0  7959 non-null   int64  \n",
      " 1   num         7959 non-null   int64  \n",
      " 2   time        7959 non-null   object \n",
      " 3   name        7959 non-null   object \n",
      " 4   latitude    7959 non-null   float64\n",
      " 5   longitude   7959 non-null   float64\n",
      " 6   likes       7959 non-null   int64  \n",
      " 7   comments    7696 non-null   float64\n",
      " 8   hashtag     7959 non-null   object \n",
      " 9   code        7959 non-null   object \n",
      " 10  address     7959 non-null   object \n",
      "dtypes: float64(3), int64(3), object(5)\n",
      "memory usage: 684.1+ KB\n"
     ]
    }
   ],
   "source": [
    "df.info()"
   ]
  },
  {
   "cell_type": "markdown",
   "metadata": {},
   "source": [
    "### 데이터 전처리 전 - 총 2,925개의 전국 벚꽃 Spot   "
   ]
  },
  {
   "cell_type": "code",
   "execution_count": 5,
   "metadata": {},
   "outputs": [
    {
     "data": {
      "text/plain": [
       "Seoul, Korea                  293\n",
       "서울숲 Seoul Forest Park         164\n",
       "일산 호수 공원 - Ilsan Lake Park    100\n",
       "벚꽃아래                           77\n",
       "Incheon, Korea                 70\n",
       "                             ... \n",
       "처인구                             1\n",
       "러브로드                            1\n",
       "소돌항                             1\n",
       "경기도 고양시 근처                      1\n",
       "안화고등학교                          1\n",
       "Name: name, Length: 2925, dtype: int64"
      ]
     },
     "execution_count": 5,
     "metadata": {},
     "output_type": "execute_result"
    }
   ],
   "source": [
    "df.name.value_counts()    "
   ]
  },
  {
   "cell_type": "code",
   "execution_count": 6,
   "metadata": {},
   "outputs": [
    {
     "data": {
      "text/plain": [
       "0                                                 서서울cc\n",
       "1                                                 Suwon\n",
       "2                                              레이크사이드cc\n",
       "3                                               플라자cc용인\n",
       "4                                               김포한강신도시\n",
       "5                                                   강원도\n",
       "6                                          Seoul, Korea\n",
       "7                                               E-World\n",
       "8                                              여의도 한강공원\n",
       "9                                             Jeju City\n",
       "10                              대구 - Daegu, South Korea\n",
       "11                                              광교아브뉴프랑\n",
       "12                                                제이드가든\n",
       "13                                               회룡 중랑천\n",
       "14    서울 경복궁- Gyeongbokgung Palace, Seoul South Kore...\n",
       "15                                               벚꽃나무아래\n",
       "16                                         Wonju, Korea\n",
       "17                              Seoul, South Korea - 서울\n",
       "18                                              벚꽃나무 아래\n",
       "19                                               하남미사지구\n",
       "20                                                  자하연\n",
       "21                                 Incheon, South Korea\n",
       "22                                                  성당못\n",
       "23                                            서울대공원 동물원\n",
       "24                             올림픽공원 Seoul Olympic Park\n",
       "25                                         Seoul, Korea\n",
       "26                                            한국전통문화대학교\n",
       "27                                        N SEOUL TOWER\n",
       "28                                                동촌유원지\n",
       "29                                               안산호수공원\n",
       "30                                              광교산 산책길\n",
       "31                                                정독도서관\n",
       "32                                             인일여자고등학교\n",
       "33                                                 벚꽃엔딩\n",
       "34                                                   파주\n",
       "35                                      Inha University\n",
       "36                                              경포가시연습지\n",
       "37                                                  양재천\n",
       "38                                   Daegu, South Korea\n",
       "39                                              Jeju-do\n",
       "40                                             인천초은고등학교\n",
       "41                                        홍대입구역 9번출구 근처\n",
       "42                                          Wknd Lounge\n",
       "43                           남산 서울타워 Namsan Seoul Tower\n",
       "44                                                보라매공원\n",
       "45                              Loiter - Coffee Shelter\n",
       "46                                                 벌레소굴\n",
       "47                                  Songdo Central Park\n",
       "48                                            여기가어디게~~~\n",
       "49                                               벚꽃나무아래\n",
       "Name: name, dtype: object"
      ]
     },
     "execution_count": 6,
     "metadata": {},
     "output_type": "execute_result"
    }
   ],
   "source": [
    "df.name[:50]"
   ]
  },
  {
   "cell_type": "code",
   "execution_count": 7,
   "metadata": {},
   "outputs": [
    {
     "data": {
      "text/html": [
       "<div>\n",
       "<style scoped>\n",
       "    .dataframe tbody tr th:only-of-type {\n",
       "        vertical-align: middle;\n",
       "    }\n",
       "\n",
       "    .dataframe tbody tr th {\n",
       "        vertical-align: top;\n",
       "    }\n",
       "\n",
       "    .dataframe thead th {\n",
       "        text-align: right;\n",
       "    }\n",
       "</style>\n",
       "<table border=\"1\" class=\"dataframe\">\n",
       "  <thead>\n",
       "    <tr style=\"text-align: right;\">\n",
       "      <th></th>\n",
       "      <th></th>\n",
       "      <th>code</th>\n",
       "    </tr>\n",
       "    <tr>\n",
       "      <th>name</th>\n",
       "      <th>address</th>\n",
       "      <th></th>\n",
       "    </tr>\n",
       "  </thead>\n",
       "  <tbody>\n",
       "    <tr>\n",
       "      <th>10004ok_coffee</th>\n",
       "      <th>제주특별자치도 제주시 삼도이동 1230-4</th>\n",
       "      <td>1</td>\n",
       "    </tr>\n",
       "    <tr>\n",
       "      <th>170cafe_pub</th>\n",
       "      <th>서울 강남구 삼성동 111-124</th>\n",
       "      <td>1</td>\n",
       "    </tr>\n",
       "    <tr>\n",
       "      <th>1년 전</th>\n",
       "      <th>서울 성동구 사근동 110</th>\n",
       "      <td>1</td>\n",
       "    </tr>\n",
       "    <tr>\n",
       "      <th>275치과의원</th>\n",
       "      <th>경기 광주시 태전동 702-34</th>\n",
       "      <td>1</td>\n",
       "    </tr>\n",
       "    <tr>\n",
       "      <th>291 Photographs' 사진의 모든 곳</th>\n",
       "      <th>서울 송파구 신천동 29</th>\n",
       "      <td>1</td>\n",
       "    </tr>\n",
       "    <tr>\n",
       "      <th>...</th>\n",
       "      <th>...</th>\n",
       "      <td>...</td>\n",
       "    </tr>\n",
       "    <tr>\n",
       "      <th>흥업쉼터</th>\n",
       "      <th>강원 원주시 흥업면 흥업리 232</th>\n",
       "      <td>1</td>\n",
       "    </tr>\n",
       "    <tr>\n",
       "      <th>희우정로벚꽃길</th>\n",
       "      <th>서울 마포구 합정동 445-14</th>\n",
       "      <td>1</td>\n",
       "    </tr>\n",
       "    <tr>\n",
       "      <th>힐드로사이CC</th>\n",
       "      <th>강원 홍천군 남면 화전리 1711</th>\n",
       "      <td>1</td>\n",
       "    </tr>\n",
       "    <tr>\n",
       "      <th>힐링그라운드</th>\n",
       "      <th>경기 파주시 상지석동 111-3</th>\n",
       "      <td>1</td>\n",
       "    </tr>\n",
       "    <tr>\n",
       "      <th>힐링힐링</th>\n",
       "      <th>서울 노원구 상계동 757</th>\n",
       "      <td>1</td>\n",
       "    </tr>\n",
       "  </tbody>\n",
       "</table>\n",
       "<p>3017 rows × 1 columns</p>\n",
       "</div>"
      ],
      "text/plain": [
       "                                                   code\n",
       "name                      address                      \n",
       "10004ok_coffee            제주특별자치도 제주시 삼도이동 1230-4     1\n",
       "170cafe_pub               서울 강남구 삼성동 111-124          1\n",
       "1년 전                      서울 성동구 사근동 110              1\n",
       "275치과의원                   경기 광주시 태전동 702-34           1\n",
       "291 Photographs' 사진의 모든 곳 서울 송파구 신천동 29               1\n",
       "...                                                 ...\n",
       "흥업쉼터                      강원 원주시 흥업면 흥업리 232          1\n",
       "희우정로벚꽃길                   서울 마포구 합정동 445-14           1\n",
       "힐드로사이CC                   강원 홍천군 남면 화전리 1711          1\n",
       "힐링그라운드                    경기 파주시 상지석동 111-3           1\n",
       "힐링힐링                      서울 노원구 상계동 757              1\n",
       "\n",
       "[3017 rows x 1 columns]"
      ]
     },
     "execution_count": 7,
     "metadata": {},
     "output_type": "execute_result"
    }
   ],
   "source": [
    "b= pd.DataFrame(df.groupby([\"name\",\"address\"])[\"code\"].count())\n",
    "\n",
    "b"
   ]
  },
  {
   "cell_type": "code",
   "execution_count": 8,
   "metadata": {},
   "outputs": [
    {
     "data": {
      "text/html": [
       "<div>\n",
       "<style scoped>\n",
       "    .dataframe tbody tr th:only-of-type {\n",
       "        vertical-align: middle;\n",
       "    }\n",
       "\n",
       "    .dataframe tbody tr th {\n",
       "        vertical-align: top;\n",
       "    }\n",
       "\n",
       "    .dataframe thead th {\n",
       "        text-align: right;\n",
       "    }\n",
       "</style>\n",
       "<table border=\"1\" class=\"dataframe\">\n",
       "  <thead>\n",
       "    <tr style=\"text-align: right;\">\n",
       "      <th></th>\n",
       "      <th>index</th>\n",
       "      <th>name</th>\n",
       "      <th>address</th>\n",
       "      <th>code</th>\n",
       "    </tr>\n",
       "  </thead>\n",
       "  <tbody>\n",
       "    <tr>\n",
       "      <th>0</th>\n",
       "      <td>300</td>\n",
       "      <td>Seoul, Korea</td>\n",
       "      <td>서울 서초구 잠원동 18-2</td>\n",
       "      <td>293</td>\n",
       "    </tr>\n",
       "    <tr>\n",
       "      <th>1</th>\n",
       "      <td>1555</td>\n",
       "      <td>서울숲 Seoul Forest Park</td>\n",
       "      <td>서울 성동구 성수동1가 685-20</td>\n",
       "      <td>164</td>\n",
       "    </tr>\n",
       "    <tr>\n",
       "      <th>2</th>\n",
       "      <td>2358</td>\n",
       "      <td>일산 호수 공원 - Ilsan Lake Park</td>\n",
       "      <td>경기 고양시 일산동구 장항동 906</td>\n",
       "      <td>100</td>\n",
       "    </tr>\n",
       "    <tr>\n",
       "      <th>3</th>\n",
       "      <td>185</td>\n",
       "      <td>Incheon, Korea</td>\n",
       "      <td>인천 중구 율목동 162-1</td>\n",
       "      <td>70</td>\n",
       "    </tr>\n",
       "    <tr>\n",
       "      <th>4</th>\n",
       "      <td>1600</td>\n",
       "      <td>석촌호수공원</td>\n",
       "      <td>서울 송파구 신천동 31</td>\n",
       "      <td>67</td>\n",
       "    </tr>\n",
       "    <tr>\n",
       "      <th>...</th>\n",
       "      <td>...</td>\n",
       "      <td>...</td>\n",
       "      <td>...</td>\n",
       "      <td>...</td>\n",
       "    </tr>\n",
       "    <tr>\n",
       "      <th>3012</th>\n",
       "      <td>1225</td>\n",
       "      <td>바우지움</td>\n",
       "      <td>강원 고성군 토성면 원암리 287</td>\n",
       "      <td>1</td>\n",
       "    </tr>\n",
       "    <tr>\n",
       "      <th>3013</th>\n",
       "      <td>1226</td>\n",
       "      <td>반월마을</td>\n",
       "      <td>전남 여수시 율촌면 반월리 809</td>\n",
       "      <td>1</td>\n",
       "    </tr>\n",
       "    <tr>\n",
       "      <th>3014</th>\n",
       "      <td>1229</td>\n",
       "      <td>반포본동</td>\n",
       "      <td>서울 서초구 반포동 1272</td>\n",
       "      <td>1</td>\n",
       "    </tr>\n",
       "    <tr>\n",
       "      <th>3015</th>\n",
       "      <td>1230</td>\n",
       "      <td>반포주공아파트</td>\n",
       "      <td>서울 서초구 반포동 869</td>\n",
       "      <td>1</td>\n",
       "    </tr>\n",
       "    <tr>\n",
       "      <th>3016</th>\n",
       "      <td>3016</td>\n",
       "      <td>힐링힐링</td>\n",
       "      <td>서울 노원구 상계동 757</td>\n",
       "      <td>1</td>\n",
       "    </tr>\n",
       "  </tbody>\n",
       "</table>\n",
       "<p>3017 rows × 4 columns</p>\n",
       "</div>"
      ],
      "text/plain": [
       "      index                        name              address  code\n",
       "0       300                Seoul, Korea      서울 서초구 잠원동 18-2   293\n",
       "1      1555       서울숲 Seoul Forest Park  서울 성동구 성수동1가 685-20   164\n",
       "2      2358  일산 호수 공원 - Ilsan Lake Park  경기 고양시 일산동구 장항동 906   100\n",
       "3       185              Incheon, Korea      인천 중구 율목동 162-1    70\n",
       "4      1600                      석촌호수공원        서울 송파구 신천동 31    67\n",
       "...     ...                         ...                  ...   ...\n",
       "3012   1225                        바우지움   강원 고성군 토성면 원암리 287     1\n",
       "3013   1226                        반월마을   전남 여수시 율촌면 반월리 809     1\n",
       "3014   1229                        반포본동      서울 서초구 반포동 1272     1\n",
       "3015   1230                     반포주공아파트       서울 서초구 반포동 869     1\n",
       "3016   3016                        힐링힐링       서울 노원구 상계동 757     1\n",
       "\n",
       "[3017 rows x 4 columns]"
      ]
     },
     "execution_count": 8,
     "metadata": {},
     "output_type": "execute_result"
    }
   ],
   "source": [
    "b1 = b.reset_index().sort_values(\"code\", ascending = False).reset_index()\n",
    "\n",
    "b1"
   ]
  },
  {
   "cell_type": "code",
   "execution_count": 11,
   "metadata": {},
   "outputs": [
    {
     "data": {
      "text/plain": [
       "0                     Seoul, Korea\n",
       "1            서울숲 Seoul Forest Park\n",
       "2       일산 호수 공원 - Ilsan Lake Park\n",
       "3                   Incheon, Korea\n",
       "4                           석촌호수공원\n",
       "                   ...            \n",
       "3012                          바우지움\n",
       "3013                          반월마을\n",
       "3014                          반포본동\n",
       "3015                       반포주공아파트\n",
       "3016                          힐링힐링\n",
       "Name: name, Length: 3017, dtype: object"
      ]
     },
     "execution_count": 11,
     "metadata": {},
     "output_type": "execute_result"
    }
   ],
   "source": [
    "b1['name']"
   ]
  },
  {
   "cell_type": "markdown",
   "metadata": {},
   "source": [
    "### 데이터 전처리 후 - 총 819개의 서울 벚꽃 Spot "
   ]
  },
  {
   "cell_type": "code",
   "execution_count": 12,
   "metadata": {},
   "outputs": [
    {
     "ename": "NameError",
     "evalue": "name 'df4' is not defined",
     "output_type": "error",
     "traceback": [
      "\u001b[1;31m---------------------------------------------------------------------------\u001b[0m",
      "\u001b[1;31mNameError\u001b[0m                                 Traceback (most recent call last)",
      "\u001b[1;32m<ipython-input-12-119f681f9411>\u001b[0m in \u001b[0;36m<module>\u001b[1;34m\u001b[0m\n\u001b[1;32m----> 1\u001b[1;33m \u001b[0mdf4\u001b[0m\u001b[1;33m.\u001b[0m\u001b[0mname\u001b[0m\u001b[1;33m.\u001b[0m\u001b[0mvalue_counts\u001b[0m\u001b[1;33m(\u001b[0m\u001b[1;33m)\u001b[0m\u001b[1;33m\u001b[0m\u001b[1;33m\u001b[0m\u001b[0m\n\u001b[0m",
      "\u001b[1;31mNameError\u001b[0m: name 'df4' is not defined"
     ]
    }
   ],
   "source": [
    "df4.name.value_counts()"
   ]
  },
  {
   "cell_type": "markdown",
   "metadata": {},
   "source": [
    "### 데이터 전처리 - 총 2,285개의 크롤링 데이터"
   ]
  },
  {
   "cell_type": "code",
   "execution_count": 13,
   "metadata": {},
   "outputs": [
    {
     "data": {
      "text/plain": [
       "2641"
      ]
     },
     "execution_count": 13,
     "metadata": {},
     "output_type": "execute_result"
    }
   ],
   "source": [
    "df0=df[df.address.str.contains('서울')==True]\n",
    "\n",
    "len(df0)"
   ]
  },
  {
   "cell_type": "code",
   "execution_count": 14,
   "metadata": {},
   "outputs": [
    {
     "data": {
      "text/plain": [
       "2344"
      ]
     },
     "execution_count": 14,
     "metadata": {},
     "output_type": "execute_result"
    }
   ],
   "source": [
    "df1 =df0[df0.name.str.contains('Seoul, Korea')==False]\n",
    "\n",
    "len(df1)"
   ]
  },
  {
   "cell_type": "code",
   "execution_count": 15,
   "metadata": {},
   "outputs": [
    {
     "data": {
      "text/plain": [
       "2312"
      ]
     },
     "execution_count": 15,
     "metadata": {},
     "output_type": "execute_result"
    }
   ],
   "source": [
    "df2 = df1[df1.name.str.contains('Seoul, South Korea')==False]\n",
    "\n",
    "len(df2)"
   ]
  },
  {
   "cell_type": "code",
   "execution_count": 16,
   "metadata": {},
   "outputs": [
    {
     "data": {
      "text/plain": [
       "2288"
      ]
     },
     "execution_count": 16,
     "metadata": {},
     "output_type": "execute_result"
    }
   ],
   "source": [
    "df3 =df2[df2.address!=(df0[df0.name=='Seoul, Korea'].address.value_counts().keys()[0])]\n",
    "\n",
    "len(df3)"
   ]
  },
  {
   "cell_type": "code",
   "execution_count": 17,
   "metadata": {},
   "outputs": [
    {
     "data": {
      "text/plain": [
       "2285"
      ]
     },
     "execution_count": 17,
     "metadata": {},
     "output_type": "execute_result"
    }
   ],
   "source": [
    "df4=df3[df3.time.str.contains('2021')==True]\n",
    "\n",
    "len(df4)"
   ]
  },
  {
   "cell_type": "markdown",
   "metadata": {},
   "source": [
    "### 총 819개의 Spot"
   ]
  },
  {
   "cell_type": "code",
   "execution_count": 18,
   "metadata": {},
   "outputs": [
    {
     "data": {
      "text/plain": [
       "서울숲 Seoul Forest Park              164\n",
       "석촌호수공원                              67\n",
       "Seoul National University           45\n",
       "벚꽃아래                                43\n",
       "석촌호수                                42\n",
       "                                  ... \n",
       "Seoulwave Artcenter                  1\n",
       "삭제 예정                                1\n",
       "홍천 비발디파크                             1\n",
       "올림픽선수촌아파트                            1\n",
       "National Palace Museum of Korea      1\n",
       "Name: name, Length: 819, dtype: int64"
      ]
     },
     "execution_count": 18,
     "metadata": {},
     "output_type": "execute_result"
    }
   ],
   "source": [
    "df4.name.value_counts()"
   ]
  },
  {
   "cell_type": "code",
   "execution_count": 19,
   "metadata": {},
   "outputs": [
    {
     "data": {
      "text/plain": [
       "6553    20\n",
       "94      20\n",
       "4024    20\n",
       "2589    20\n",
       "34      21\n",
       "5338    21\n",
       "1421    21\n",
       "1400    21\n",
       "4734    21\n",
       "5516    21\n",
       "6402    21\n",
       "7383    21\n",
       "93      21\n",
       "6672    21\n",
       "6108    21\n",
       "4606    21\n",
       "2938    21\n",
       "2940    21\n",
       "998     21\n",
       "1820    21\n",
       "4415    21\n",
       "2452    21\n",
       "5138    21\n",
       "918     21\n",
       "7386    21\n",
       "4379    21\n",
       "6628    22\n",
       "4850    22\n",
       "3692    22\n",
       "794     22\n",
       "5856    22\n",
       "5578    22\n",
       "1333    22\n",
       "344     22\n",
       "7545    22\n",
       "2332    22\n",
       "5936    22\n",
       "5700    22\n",
       "604     22\n",
       "4272    22\n",
       "2232    22\n",
       "2564    22\n",
       "4637    22\n",
       "688     22\n",
       "1495    22\n",
       "1037    22\n",
       "2281    22\n",
       "6434    22\n",
       "539     22\n",
       "1245    22\n",
       "Name: likes, dtype: int64"
      ]
     },
     "execution_count": 19,
     "metadata": {},
     "output_type": "execute_result"
    }
   ],
   "source": [
    "df3.likes.sort_values()[500:550]"
   ]
  },
  {
   "cell_type": "markdown",
   "metadata": {},
   "source": [
    "## df3 : 서울에 점이 822개 찍힐거야 ##"
   ]
  },
  {
   "cell_type": "code",
   "execution_count": 20,
   "metadata": {},
   "outputs": [
    {
     "data": {
      "text/html": [
       "<div>\n",
       "<style scoped>\n",
       "    .dataframe tbody tr th:only-of-type {\n",
       "        vertical-align: middle;\n",
       "    }\n",
       "\n",
       "    .dataframe tbody tr th {\n",
       "        vertical-align: top;\n",
       "    }\n",
       "\n",
       "    .dataframe thead th {\n",
       "        text-align: right;\n",
       "    }\n",
       "</style>\n",
       "<table border=\"1\" class=\"dataframe\">\n",
       "  <thead>\n",
       "    <tr style=\"text-align: right;\">\n",
       "      <th></th>\n",
       "      <th>time</th>\n",
       "    </tr>\n",
       "  </thead>\n",
       "  <tbody>\n",
       "    <tr>\n",
       "      <th>2021-04-07</th>\n",
       "      <td>1253</td>\n",
       "    </tr>\n",
       "    <tr>\n",
       "      <th>2021-04-06</th>\n",
       "      <td>944</td>\n",
       "    </tr>\n",
       "    <tr>\n",
       "      <th>2021-04-05</th>\n",
       "      <td>20</td>\n",
       "    </tr>\n",
       "    <tr>\n",
       "      <th>2021-04-01</th>\n",
       "      <td>18</td>\n",
       "    </tr>\n",
       "    <tr>\n",
       "      <th>2021-04-03</th>\n",
       "      <td>11</td>\n",
       "    </tr>\n",
       "    <tr>\n",
       "      <th>2021-04-02</th>\n",
       "      <td>10</td>\n",
       "    </tr>\n",
       "    <tr>\n",
       "      <th>2021-04-04</th>\n",
       "      <td>10</td>\n",
       "    </tr>\n",
       "    <tr>\n",
       "      <th>2021-03-31</th>\n",
       "      <td>5</td>\n",
       "    </tr>\n",
       "    <tr>\n",
       "      <th>2021-03-29</th>\n",
       "      <td>3</td>\n",
       "    </tr>\n",
       "    <tr>\n",
       "      <th>2021-03-22</th>\n",
       "      <td>2</td>\n",
       "    </tr>\n",
       "    <tr>\n",
       "      <th>2021-03-14</th>\n",
       "      <td>2</td>\n",
       "    </tr>\n",
       "    <tr>\n",
       "      <th>2021-03-26</th>\n",
       "      <td>1</td>\n",
       "    </tr>\n",
       "    <tr>\n",
       "      <th>2021-03-02</th>\n",
       "      <td>1</td>\n",
       "    </tr>\n",
       "    <tr>\n",
       "      <th>2021-03-27</th>\n",
       "      <td>1</td>\n",
       "    </tr>\n",
       "    <tr>\n",
       "      <th>2021-02-19</th>\n",
       "      <td>1</td>\n",
       "    </tr>\n",
       "    <tr>\n",
       "      <th>2021-03-28</th>\n",
       "      <td>1</td>\n",
       "    </tr>\n",
       "    <tr>\n",
       "      <th>2021-03-18</th>\n",
       "      <td>1</td>\n",
       "    </tr>\n",
       "    <tr>\n",
       "      <th>2021-03-09</th>\n",
       "      <td>1</td>\n",
       "    </tr>\n",
       "  </tbody>\n",
       "</table>\n",
       "</div>"
      ],
      "text/plain": [
       "            time\n",
       "2021-04-07  1253\n",
       "2021-04-06   944\n",
       "2021-04-05    20\n",
       "2021-04-01    18\n",
       "2021-04-03    11\n",
       "2021-04-02    10\n",
       "2021-04-04    10\n",
       "2021-03-31     5\n",
       "2021-03-29     3\n",
       "2021-03-22     2\n",
       "2021-03-14     2\n",
       "2021-03-26     1\n",
       "2021-03-02     1\n",
       "2021-03-27     1\n",
       "2021-02-19     1\n",
       "2021-03-28     1\n",
       "2021-03-18     1\n",
       "2021-03-09     1"
      ]
     },
     "execution_count": 20,
     "metadata": {},
     "output_type": "execute_result"
    }
   ],
   "source": [
    "df4_a = pd.DataFrame(df4.time.value_counts())\n",
    "\n",
    "df4_a"
   ]
  },
  {
   "cell_type": "code",
   "execution_count": 21,
   "metadata": {},
   "outputs": [
    {
     "ename": "NameError",
     "evalue": "name 'sns' is not defined",
     "output_type": "error",
     "traceback": [
      "\u001b[1;31m---------------------------------------------------------------------------\u001b[0m",
      "\u001b[1;31mNameError\u001b[0m                                 Traceback (most recent call last)",
      "\u001b[1;32m<ipython-input-21-adfaf2769812>\u001b[0m in \u001b[0;36m<module>\u001b[1;34m\u001b[0m\n\u001b[1;32m----> 1\u001b[1;33m \u001b[0msns\u001b[0m\u001b[1;33m.\u001b[0m\u001b[0mbarplot\u001b[0m\u001b[1;33m(\u001b[0m\u001b[0mx\u001b[0m\u001b[1;33m=\u001b[0m\u001b[0mdf4_a\u001b[0m\u001b[1;33m.\u001b[0m\u001b[0mindex\u001b[0m\u001b[1;33m,\u001b[0m \u001b[0my\u001b[0m\u001b[1;33m=\u001b[0m\u001b[0mdf4_a\u001b[0m\u001b[1;33m.\u001b[0m\u001b[0mtime\u001b[0m\u001b[1;33m,\u001b[0m \u001b[0mdata\u001b[0m\u001b[1;33m=\u001b[0m\u001b[0mdf4_a\u001b[0m\u001b[1;33m,\u001b[0m \u001b[0mcolor\u001b[0m\u001b[1;33m=\u001b[0m\u001b[1;34m'pink'\u001b[0m\u001b[1;33m)\u001b[0m\u001b[1;33m\u001b[0m\u001b[1;33m\u001b[0m\u001b[0m\n\u001b[0m\u001b[0;32m      2\u001b[0m \u001b[1;33m\u001b[0m\u001b[0m\n\u001b[0;32m      3\u001b[0m \u001b[0mplt\u001b[0m\u001b[1;33m.\u001b[0m\u001b[0mshow\u001b[0m\u001b[1;33m(\u001b[0m\u001b[1;33m)\u001b[0m\u001b[1;33m\u001b[0m\u001b[1;33m\u001b[0m\u001b[0m\n",
      "\u001b[1;31mNameError\u001b[0m: name 'sns' is not defined"
     ]
    }
   ],
   "source": [
    "sns.barplot(x=df4_a.index, y=df4_a.time, data=df4_a, color='pink')\n",
    "\n",
    "plt.show()"
   ]
  },
  {
   "cell_type": "markdown",
   "metadata": {},
   "source": [
    "### 일단 df3까지 ###--------------------------------------------"
   ]
  },
  {
   "cell_type": "code",
   "execution_count": 22,
   "metadata": {},
   "outputs": [],
   "source": [
    "import pandas as pd\n",
    "import numpy as np\n",
    "import seaborn as sns\n",
    "import matplotlib.pyplot as plt\n",
    "import os\n",
    "import warnings\n",
    "%matplotlib inline\n",
    "warnings.filterwarnings('ignore')    "
   ]
  },
  {
   "cell_type": "code",
   "execution_count": 23,
   "metadata": {},
   "outputs": [
    {
     "ename": "NameError",
     "evalue": "name 'df5' is not defined",
     "output_type": "error",
     "traceback": [
      "\u001b[1;31m---------------------------------------------------------------------------\u001b[0m",
      "\u001b[1;31mNameError\u001b[0m                                 Traceback (most recent call last)",
      "\u001b[1;32m<ipython-input-23-f998ef96d120>\u001b[0m in \u001b[0;36m<module>\u001b[1;34m\u001b[0m\n\u001b[1;32m----> 1\u001b[1;33m \u001b[0msns\u001b[0m\u001b[1;33m.\u001b[0m\u001b[0mkdeplot\u001b[0m\u001b[1;33m(\u001b[0m\u001b[0mdf5\u001b[0m\u001b[1;33m,\u001b[0m \u001b[0mcolor\u001b[0m \u001b[1;33m=\u001b[0m\u001b[1;34m'pink'\u001b[0m\u001b[1;33m)\u001b[0m\u001b[1;33m\u001b[0m\u001b[1;33m\u001b[0m\u001b[0m\n\u001b[0m\u001b[0;32m      2\u001b[0m \u001b[0mplt\u001b[0m\u001b[1;33m.\u001b[0m\u001b[0mshow\u001b[0m\u001b[1;33m(\u001b[0m\u001b[1;33m)\u001b[0m\u001b[1;33m\u001b[0m\u001b[1;33m\u001b[0m\u001b[0m\n",
      "\u001b[1;31mNameError\u001b[0m: name 'df5' is not defined"
     ]
    }
   ],
   "source": [
    "sns.kdeplot(df5, color ='pink')\n",
    "plt.show()"
   ]
  },
  {
   "cell_type": "markdown",
   "metadata": {},
   "source": [
    "### df4 : 서울에 점이 819개 찍힐거야 ### "
   ]
  },
  {
   "cell_type": "code",
   "execution_count": 24,
   "metadata": {},
   "outputs": [
    {
     "data": {
      "text/html": [
       "<div>\n",
       "<style scoped>\n",
       "    .dataframe tbody tr th:only-of-type {\n",
       "        vertical-align: middle;\n",
       "    }\n",
       "\n",
       "    .dataframe tbody tr th {\n",
       "        vertical-align: top;\n",
       "    }\n",
       "\n",
       "    .dataframe thead th {\n",
       "        text-align: right;\n",
       "    }\n",
       "</style>\n",
       "<table border=\"1\" class=\"dataframe\">\n",
       "  <thead>\n",
       "    <tr style=\"text-align: right;\">\n",
       "      <th></th>\n",
       "      <th>Unnamed: 0</th>\n",
       "      <th>num</th>\n",
       "      <th>time</th>\n",
       "      <th>name</th>\n",
       "      <th>latitude</th>\n",
       "      <th>longitude</th>\n",
       "      <th>likes</th>\n",
       "      <th>comments</th>\n",
       "      <th>hashtag</th>\n",
       "      <th>code</th>\n",
       "      <th>address</th>\n",
       "    </tr>\n",
       "  </thead>\n",
       "  <tbody>\n",
       "    <tr>\n",
       "      <th>8</th>\n",
       "      <td>8</td>\n",
       "      <td>10</td>\n",
       "      <td>2021-04-07</td>\n",
       "      <td>여의도 한강공원</td>\n",
       "      <td>37.526906</td>\n",
       "      <td>126.934372</td>\n",
       "      <td>219</td>\n",
       "      <td>6.0</td>\n",
       "      <td>[]</td>\n",
       "      <td>CNXPrWJnyRA</td>\n",
       "      <td>서울 영등포구 여의도동 85</td>\n",
       "    </tr>\n",
       "    <tr>\n",
       "      <th>14</th>\n",
       "      <td>15</td>\n",
       "      <td>14</td>\n",
       "      <td>2021-04-07</td>\n",
       "      <td>서울 경복궁- Gyeongbokgung Palace, Seoul South Kore...</td>\n",
       "      <td>37.556664</td>\n",
       "      <td>126.972640</td>\n",
       "      <td>0</td>\n",
       "      <td>0.0</td>\n",
       "      <td>['#IPhone12promax', '#photography', '#꿈꾸는사진가',...</td>\n",
       "      <td>CNXjHp4LkGs</td>\n",
       "      <td>서울 중구 남대문로5가 73-2</td>\n",
       "    </tr>\n",
       "    <tr>\n",
       "      <th>15</th>\n",
       "      <td>17</td>\n",
       "      <td>15</td>\n",
       "      <td>2021-04-07</td>\n",
       "      <td>벚꽃나무아래</td>\n",
       "      <td>37.525005</td>\n",
       "      <td>126.858908</td>\n",
       "      <td>16</td>\n",
       "      <td>0.0</td>\n",
       "      <td>['#단체사진', '#봄', '#벚꽃', '#인스타그램', '#얼스타그래...</td>\n",
       "      <td>CNXjE6dMpFq</td>\n",
       "      <td>서울 양천구 신정동 953-8</td>\n",
       "    </tr>\n",
       "    <tr>\n",
       "      <th>20</th>\n",
       "      <td>22</td>\n",
       "      <td>20</td>\n",
       "      <td>2021-04-07</td>\n",
       "      <td>자하연</td>\n",
       "      <td>37.460831</td>\n",
       "      <td>126.952244</td>\n",
       "      <td>24</td>\n",
       "      <td>2.0</td>\n",
       "      <td>[]</td>\n",
       "      <td>CNXiZ9dpqPE</td>\n",
       "      <td>서울 관악구 신림동 산 56-1</td>\n",
       "    </tr>\n",
       "    <tr>\n",
       "      <th>23</th>\n",
       "      <td>25</td>\n",
       "      <td>23</td>\n",
       "      <td>2021-04-07</td>\n",
       "      <td>서울대공원 동물원</td>\n",
       "      <td>37.519347</td>\n",
       "      <td>127.100615</td>\n",
       "      <td>1</td>\n",
       "      <td>0.0</td>\n",
       "      <td>['#서울대공원', '#동물원', '#벚꽃', '#벚꽃놀이', '#벚꽃구경']</td>\n",
       "      <td>CNXi7P1pSce</td>\n",
       "      <td>서울 송파구 신천동 7</td>\n",
       "    </tr>\n",
       "    <tr>\n",
       "      <th>...</th>\n",
       "      <td>...</td>\n",
       "      <td>...</td>\n",
       "      <td>...</td>\n",
       "      <td>...</td>\n",
       "      <td>...</td>\n",
       "      <td>...</td>\n",
       "      <td>...</td>\n",
       "      <td>...</td>\n",
       "      <td>...</td>\n",
       "      <td>...</td>\n",
       "      <td>...</td>\n",
       "    </tr>\n",
       "    <tr>\n",
       "      <th>7939</th>\n",
       "      <td>8942</td>\n",
       "      <td>8949</td>\n",
       "      <td>2021-04-06</td>\n",
       "      <td>서울대입구역</td>\n",
       "      <td>37.480667</td>\n",
       "      <td>126.952808</td>\n",
       "      <td>30</td>\n",
       "      <td>2.0</td>\n",
       "      <td>[]</td>\n",
       "      <td>CNUGR5NFxn7</td>\n",
       "      <td>서울 관악구 봉천동 979-1</td>\n",
       "    </tr>\n",
       "    <tr>\n",
       "      <th>7942</th>\n",
       "      <td>8946</td>\n",
       "      <td>8954</td>\n",
       "      <td>2021-04-06</td>\n",
       "      <td>롯데월드몰</td>\n",
       "      <td>37.513446</td>\n",
       "      <td>127.103478</td>\n",
       "      <td>57</td>\n",
       "      <td>2.0</td>\n",
       "      <td>['#파라솔만한우산', '#럽스타']</td>\n",
       "      <td>CNUF199jrPB</td>\n",
       "      <td>서울 송파구 신천동 29</td>\n",
       "    </tr>\n",
       "    <tr>\n",
       "      <th>7948</th>\n",
       "      <td>8952</td>\n",
       "      <td>8961</td>\n",
       "      <td>2021-04-06</td>\n",
       "      <td>서울특별시 서대문구 남가좌동</td>\n",
       "      <td>37.572795</td>\n",
       "      <td>126.921704</td>\n",
       "      <td>80</td>\n",
       "      <td>1.0</td>\n",
       "      <td>['#Seoul', '#Korea', '#cherryblossom', '#sprin...</td>\n",
       "      <td>CNUGGF4JErl</td>\n",
       "      <td>서울 서대문구 남가좌동 386</td>\n",
       "    </tr>\n",
       "    <tr>\n",
       "      <th>7954</th>\n",
       "      <td>8958</td>\n",
       "      <td>8968</td>\n",
       "      <td>2021-04-06</td>\n",
       "      <td>당인리 발전소 벚꽃길</td>\n",
       "      <td>37.546425</td>\n",
       "      <td>126.917597</td>\n",
       "      <td>113</td>\n",
       "      <td>0.0</td>\n",
       "      <td>['#fujifilmxt3', '#xf50140mm', '#당인리벚꽃길', '#벚꽃...</td>\n",
       "      <td>CNUF8onMEE2</td>\n",
       "      <td>서울 마포구 합정동 402-1</td>\n",
       "    </tr>\n",
       "    <tr>\n",
       "      <th>7957</th>\n",
       "      <td>8961</td>\n",
       "      <td>8973</td>\n",
       "      <td>2021-04-06</td>\n",
       "      <td>JW Marriott Dongdaemun Square Seoul</td>\n",
       "      <td>37.570178</td>\n",
       "      <td>127.005751</td>\n",
       "      <td>199</td>\n",
       "      <td>3.0</td>\n",
       "      <td>[]</td>\n",
       "      <td>CNUFuwepnDg</td>\n",
       "      <td>서울 종로구 종로5가 444-5</td>\n",
       "    </tr>\n",
       "  </tbody>\n",
       "</table>\n",
       "<p>2285 rows × 11 columns</p>\n",
       "</div>"
      ],
      "text/plain": [
       "      Unnamed: 0   num        time  \\\n",
       "8              8    10  2021-04-07   \n",
       "14            15    14  2021-04-07   \n",
       "15            17    15  2021-04-07   \n",
       "20            22    20  2021-04-07   \n",
       "23            25    23  2021-04-07   \n",
       "...          ...   ...         ...   \n",
       "7939        8942  8949  2021-04-06   \n",
       "7942        8946  8954  2021-04-06   \n",
       "7948        8952  8961  2021-04-06   \n",
       "7954        8958  8968  2021-04-06   \n",
       "7957        8961  8973  2021-04-06   \n",
       "\n",
       "                                                   name   latitude  \\\n",
       "8                                              여의도 한강공원  37.526906   \n",
       "14    서울 경복궁- Gyeongbokgung Palace, Seoul South Kore...  37.556664   \n",
       "15                                               벚꽃나무아래  37.525005   \n",
       "20                                                  자하연  37.460831   \n",
       "23                                            서울대공원 동물원  37.519347   \n",
       "...                                                 ...        ...   \n",
       "7939                                             서울대입구역  37.480667   \n",
       "7942                                              롯데월드몰  37.513446   \n",
       "7948                                    서울특별시 서대문구 남가좌동  37.572795   \n",
       "7954                                        당인리 발전소 벚꽃길  37.546425   \n",
       "7957                JW Marriott Dongdaemun Square Seoul  37.570178   \n",
       "\n",
       "       longitude  likes  comments  \\\n",
       "8     126.934372    219       6.0   \n",
       "14    126.972640      0       0.0   \n",
       "15    126.858908     16       0.0   \n",
       "20    126.952244     24       2.0   \n",
       "23    127.100615      1       0.0   \n",
       "...          ...    ...       ...   \n",
       "7939  126.952808     30       2.0   \n",
       "7942  127.103478     57       2.0   \n",
       "7948  126.921704     80       1.0   \n",
       "7954  126.917597    113       0.0   \n",
       "7957  127.005751    199       3.0   \n",
       "\n",
       "                                                hashtag         code  \\\n",
       "8                                                    []  CNXPrWJnyRA   \n",
       "14    ['#IPhone12promax', '#photography', '#꿈꾸는사진가',...  CNXjHp4LkGs   \n",
       "15    ['#단체사진', '#봄', '#벚꽃', '#인스타그램', '#얼스타그래...  CNXjE6dMpFq   \n",
       "20                                                   []  CNXiZ9dpqPE   \n",
       "23          ['#서울대공원', '#동물원', '#벚꽃', '#벚꽃놀이', '#벚꽃구경']  CNXi7P1pSce   \n",
       "...                                                 ...          ...   \n",
       "7939                                                 []  CNUGR5NFxn7   \n",
       "7942                               ['#파라솔만한우산', '#럽스타']  CNUF199jrPB   \n",
       "7948  ['#Seoul', '#Korea', '#cherryblossom', '#sprin...  CNUGGF4JErl   \n",
       "7954  ['#fujifilmxt3', '#xf50140mm', '#당인리벚꽃길', '#벚꽃...  CNUF8onMEE2   \n",
       "7957                                                 []  CNUFuwepnDg   \n",
       "\n",
       "                address  \n",
       "8       서울 영등포구 여의도동 85  \n",
       "14    서울 중구 남대문로5가 73-2  \n",
       "15     서울 양천구 신정동 953-8  \n",
       "20    서울 관악구 신림동 산 56-1  \n",
       "23         서울 송파구 신천동 7  \n",
       "...                 ...  \n",
       "7939   서울 관악구 봉천동 979-1  \n",
       "7942      서울 송파구 신천동 29  \n",
       "7948   서울 서대문구 남가좌동 386  \n",
       "7954   서울 마포구 합정동 402-1  \n",
       "7957  서울 종로구 종로5가 444-5  \n",
       "\n",
       "[2285 rows x 11 columns]"
      ]
     },
     "execution_count": 24,
     "metadata": {},
     "output_type": "execute_result"
    }
   ],
   "source": [
    "df4"
   ]
  },
  {
   "cell_type": "code",
   "execution_count": 25,
   "metadata": {},
   "outputs": [],
   "source": [
    "df4_a = df4.groupby(\"name\")['likes'].sum()"
   ]
  },
  {
   "cell_type": "code",
   "execution_count": 26,
   "metadata": {},
   "outputs": [],
   "source": [
    "df4_a = df4_a.reset_index()"
   ]
  },
  {
   "cell_type": "code",
   "execution_count": 27,
   "metadata": {
    "scrolled": true
   },
   "outputs": [
    {
     "data": {
      "text/html": [
       "<div>\n",
       "<style scoped>\n",
       "    .dataframe tbody tr th:only-of-type {\n",
       "        vertical-align: middle;\n",
       "    }\n",
       "\n",
       "    .dataframe tbody tr th {\n",
       "        vertical-align: top;\n",
       "    }\n",
       "\n",
       "    .dataframe thead th {\n",
       "        text-align: right;\n",
       "    }\n",
       "</style>\n",
       "<table border=\"1\" class=\"dataframe\">\n",
       "  <thead>\n",
       "    <tr style=\"text-align: right;\">\n",
       "      <th></th>\n",
       "      <th>name</th>\n",
       "      <th>likes</th>\n",
       "    </tr>\n",
       "  </thead>\n",
       "  <tbody>\n",
       "    <tr>\n",
       "      <th>0</th>\n",
       "      <td>170cafe_pub</td>\n",
       "      <td>42</td>\n",
       "    </tr>\n",
       "    <tr>\n",
       "      <th>1</th>\n",
       "      <td>1년 전</td>\n",
       "      <td>62</td>\n",
       "    </tr>\n",
       "    <tr>\n",
       "      <th>2</th>\n",
       "      <td>291 Photographs' 사진의 모든 곳</td>\n",
       "      <td>72</td>\n",
       "    </tr>\n",
       "    <tr>\n",
       "      <th>3</th>\n",
       "      <td>2호선</td>\n",
       "      <td>19</td>\n",
       "    </tr>\n",
       "    <tr>\n",
       "      <th>4</th>\n",
       "      <td>A, Galleria Palace</td>\n",
       "      <td>19</td>\n",
       "    </tr>\n",
       "    <tr>\n",
       "      <th>...</th>\n",
       "      <td>...</td>\n",
       "      <td>...</td>\n",
       "    </tr>\n",
       "    <tr>\n",
       "      <th>814</th>\n",
       "      <td>휴.......</td>\n",
       "      <td>22</td>\n",
       "    </tr>\n",
       "    <tr>\n",
       "      <th>815</th>\n",
       "      <td>흑석동 어딘가</td>\n",
       "      <td>18</td>\n",
       "    </tr>\n",
       "    <tr>\n",
       "      <th>816</th>\n",
       "      <td>흑석동 엔파트</td>\n",
       "      <td>265</td>\n",
       "    </tr>\n",
       "    <tr>\n",
       "      <th>817</th>\n",
       "      <td>희우정로벚꽃길</td>\n",
       "      <td>122</td>\n",
       "    </tr>\n",
       "    <tr>\n",
       "      <th>818</th>\n",
       "      <td>힐링힐링</td>\n",
       "      <td>31</td>\n",
       "    </tr>\n",
       "  </tbody>\n",
       "</table>\n",
       "<p>819 rows × 2 columns</p>\n",
       "</div>"
      ],
      "text/plain": [
       "                          name  likes\n",
       "0                  170cafe_pub     42\n",
       "1                         1년 전     62\n",
       "2    291 Photographs' 사진의 모든 곳     72\n",
       "3                          2호선     19\n",
       "4           A, Galleria Palace     19\n",
       "..                         ...    ...\n",
       "814                   휴.......     22\n",
       "815                    흑석동 어딘가     18\n",
       "816                    흑석동 엔파트    265\n",
       "817                    희우정로벚꽃길    122\n",
       "818                       힐링힐링     31\n",
       "\n",
       "[819 rows x 2 columns]"
      ]
     },
     "execution_count": 27,
     "metadata": {},
     "output_type": "execute_result"
    }
   ],
   "source": [
    "df4_a"
   ]
  },
  {
   "cell_type": "code",
   "execution_count": 28,
   "metadata": {},
   "outputs": [],
   "source": [
    "df4_b = df4.value_counts('name').reset_index()"
   ]
  },
  {
   "cell_type": "code",
   "execution_count": 29,
   "metadata": {},
   "outputs": [],
   "source": [
    "df4_b =df4_b.rename(columns = {'name':'name',0: \"numb_posts\"})"
   ]
  },
  {
   "cell_type": "code",
   "execution_count": 30,
   "metadata": {},
   "outputs": [
    {
     "data": {
      "text/html": [
       "<div>\n",
       "<style scoped>\n",
       "    .dataframe tbody tr th:only-of-type {\n",
       "        vertical-align: middle;\n",
       "    }\n",
       "\n",
       "    .dataframe tbody tr th {\n",
       "        vertical-align: top;\n",
       "    }\n",
       "\n",
       "    .dataframe thead th {\n",
       "        text-align: right;\n",
       "    }\n",
       "</style>\n",
       "<table border=\"1\" class=\"dataframe\">\n",
       "  <thead>\n",
       "    <tr style=\"text-align: right;\">\n",
       "      <th></th>\n",
       "      <th>name</th>\n",
       "      <th>likes</th>\n",
       "      <th>numb_posts</th>\n",
       "    </tr>\n",
       "  </thead>\n",
       "  <tbody>\n",
       "    <tr>\n",
       "      <th>0</th>\n",
       "      <td>170cafe_pub</td>\n",
       "      <td>42</td>\n",
       "      <td>1</td>\n",
       "    </tr>\n",
       "    <tr>\n",
       "      <th>1</th>\n",
       "      <td>1년 전</td>\n",
       "      <td>62</td>\n",
       "      <td>1</td>\n",
       "    </tr>\n",
       "    <tr>\n",
       "      <th>2</th>\n",
       "      <td>291 Photographs' 사진의 모든 곳</td>\n",
       "      <td>72</td>\n",
       "      <td>1</td>\n",
       "    </tr>\n",
       "    <tr>\n",
       "      <th>3</th>\n",
       "      <td>2호선</td>\n",
       "      <td>19</td>\n",
       "      <td>1</td>\n",
       "    </tr>\n",
       "    <tr>\n",
       "      <th>4</th>\n",
       "      <td>A, Galleria Palace</td>\n",
       "      <td>19</td>\n",
       "      <td>1</td>\n",
       "    </tr>\n",
       "    <tr>\n",
       "      <th>...</th>\n",
       "      <td>...</td>\n",
       "      <td>...</td>\n",
       "      <td>...</td>\n",
       "    </tr>\n",
       "    <tr>\n",
       "      <th>814</th>\n",
       "      <td>휴.......</td>\n",
       "      <td>22</td>\n",
       "      <td>1</td>\n",
       "    </tr>\n",
       "    <tr>\n",
       "      <th>815</th>\n",
       "      <td>흑석동 어딘가</td>\n",
       "      <td>18</td>\n",
       "      <td>1</td>\n",
       "    </tr>\n",
       "    <tr>\n",
       "      <th>816</th>\n",
       "      <td>흑석동 엔파트</td>\n",
       "      <td>265</td>\n",
       "      <td>1</td>\n",
       "    </tr>\n",
       "    <tr>\n",
       "      <th>817</th>\n",
       "      <td>희우정로벚꽃길</td>\n",
       "      <td>122</td>\n",
       "      <td>1</td>\n",
       "    </tr>\n",
       "    <tr>\n",
       "      <th>818</th>\n",
       "      <td>힐링힐링</td>\n",
       "      <td>31</td>\n",
       "      <td>1</td>\n",
       "    </tr>\n",
       "  </tbody>\n",
       "</table>\n",
       "<p>819 rows × 3 columns</p>\n",
       "</div>"
      ],
      "text/plain": [
       "                          name  likes  numb_posts\n",
       "0                  170cafe_pub     42           1\n",
       "1                         1년 전     62           1\n",
       "2    291 Photographs' 사진의 모든 곳     72           1\n",
       "3                          2호선     19           1\n",
       "4           A, Galleria Palace     19           1\n",
       "..                         ...    ...         ...\n",
       "814                   휴.......     22           1\n",
       "815                    흑석동 어딘가     18           1\n",
       "816                    흑석동 엔파트    265           1\n",
       "817                    희우정로벚꽃길    122           1\n",
       "818                       힐링힐링     31           1\n",
       "\n",
       "[819 rows x 3 columns]"
      ]
     },
     "execution_count": 30,
     "metadata": {},
     "output_type": "execute_result"
    }
   ],
   "source": [
    "df5=df4_a.merge(df4_b, on = \"name\")\n",
    "\n",
    "df5"
   ]
  },
  {
   "cell_type": "code",
   "execution_count": 31,
   "metadata": {},
   "outputs": [
    {
     "data": {
      "image/png": "[encoded data removed]",
      "text/plain": [
       "<Figure size 432x432 with 3 Axes>"
      ]
     },
     "metadata": {
      "needs_background": "light"
     },
     "output_type": "display_data"
    }
   ],
   "source": [
    "sns.jointplot(x='likes', y='numb_posts', data=df5, color='purple', kind='scatter')\n",
    "plt.show()"
   ]
  },
  {
   "cell_type": "code",
   "execution_count": 32,
   "metadata": {},
   "outputs": [
    {
     "data": {
      "text/plain": [
       "260.8449328449328"
      ]
     },
     "execution_count": 32,
     "metadata": {},
     "output_type": "execute_result"
    }
   ],
   "source": [
    "df5.likes.mean()"
   ]
  },
  {
   "cell_type": "code",
   "execution_count": 33,
   "metadata": {},
   "outputs": [
    {
     "data": {
      "text/plain": [
       "14676"
      ]
     },
     "execution_count": 33,
     "metadata": {},
     "output_type": "execute_result"
    }
   ],
   "source": [
    "df5.likes.max()"
   ]
  },
  {
   "cell_type": "code",
   "execution_count": 34,
   "metadata": {},
   "outputs": [],
   "source": [
    "df6 = df5[df5.likes < 2000]"
   ]
  },
  {
   "cell_type": "code",
   "execution_count": 35,
   "metadata": {},
   "outputs": [
    {
     "data": {
      "text/plain": [
       "1919"
      ]
     },
     "execution_count": 35,
     "metadata": {},
     "output_type": "execute_result"
    }
   ],
   "source": [
    "df6.likes.max()"
   ]
  },
  {
   "cell_type": "code",
   "execution_count": 36,
   "metadata": {},
   "outputs": [
    {
     "data": {
      "image/png": "[encoded data removed]",
      "text/plain": [
       "<Figure size 432x432 with 3 Axes>"
      ]
     },
     "metadata": {
      "needs_background": "light"
     },
     "output_type": "display_data"
    }
   ],
   "source": [
    "sns.jointplot(x='likes', y='numb_posts', data=df6, color='pink', kind='scatter')\n",
    "plt.show()"
   ]
  },
  {
   "cell_type": "code",
   "execution_count": 37,
   "metadata": {},
   "outputs": [],
   "source": [
    "df4_c = df4.groupby(\"name\")['likes'].mean()"
   ]
  },
  {
   "cell_type": "code",
   "execution_count": 38,
   "metadata": {},
   "outputs": [],
   "source": [
    "df4_c = df4_c.reset_index()"
   ]
  },
  {
   "cell_type": "code",
   "execution_count": 39,
   "metadata": {},
   "outputs": [
    {
     "name": "stdout",
     "output_type": "stream",
     "text": [
      "name     string\n",
      "likes    string\n",
      "dtype: object\n"
     ]
    }
   ],
   "source": [
    "df4_c = df4_c.astype('string')\n",
    "print(df4_c.dtypes)"
   ]
  },
  {
   "cell_type": "code",
   "execution_count": 40,
   "metadata": {},
   "outputs": [
    {
     "data": {
      "text/html": [
       "<div>\n",
       "<style scoped>\n",
       "    .dataframe tbody tr th:only-of-type {\n",
       "        vertical-align: middle;\n",
       "    }\n",
       "\n",
       "    .dataframe tbody tr th {\n",
       "        vertical-align: top;\n",
       "    }\n",
       "\n",
       "    .dataframe thead th {\n",
       "        text-align: right;\n",
       "    }\n",
       "</style>\n",
       "<table border=\"1\" class=\"dataframe\">\n",
       "  <thead>\n",
       "    <tr style=\"text-align: right;\">\n",
       "      <th></th>\n",
       "      <th>name</th>\n",
       "      <th>likes</th>\n",
       "    </tr>\n",
       "  </thead>\n",
       "  <tbody>\n",
       "    <tr>\n",
       "      <th>0</th>\n",
       "      <td>170cafe_pub</td>\n",
       "      <td>42.0</td>\n",
       "    </tr>\n",
       "    <tr>\n",
       "      <th>1</th>\n",
       "      <td>1년 전</td>\n",
       "      <td>62.0</td>\n",
       "    </tr>\n",
       "    <tr>\n",
       "      <th>2</th>\n",
       "      <td>291 Photographs' 사진의 모든 곳</td>\n",
       "      <td>72.0</td>\n",
       "    </tr>\n",
       "    <tr>\n",
       "      <th>3</th>\n",
       "      <td>2호선</td>\n",
       "      <td>19.0</td>\n",
       "    </tr>\n",
       "    <tr>\n",
       "      <th>4</th>\n",
       "      <td>A, Galleria Palace</td>\n",
       "      <td>19.0</td>\n",
       "    </tr>\n",
       "    <tr>\n",
       "      <th>...</th>\n",
       "      <td>...</td>\n",
       "      <td>...</td>\n",
       "    </tr>\n",
       "    <tr>\n",
       "      <th>814</th>\n",
       "      <td>휴.......</td>\n",
       "      <td>22.0</td>\n",
       "    </tr>\n",
       "    <tr>\n",
       "      <th>815</th>\n",
       "      <td>흑석동 어딘가</td>\n",
       "      <td>18.0</td>\n",
       "    </tr>\n",
       "    <tr>\n",
       "      <th>816</th>\n",
       "      <td>흑석동 엔파트</td>\n",
       "      <td>265.0</td>\n",
       "    </tr>\n",
       "    <tr>\n",
       "      <th>817</th>\n",
       "      <td>희우정로벚꽃길</td>\n",
       "      <td>122.0</td>\n",
       "    </tr>\n",
       "    <tr>\n",
       "      <th>818</th>\n",
       "      <td>힐링힐링</td>\n",
       "      <td>31.0</td>\n",
       "    </tr>\n",
       "  </tbody>\n",
       "</table>\n",
       "<p>819 rows × 2 columns</p>\n",
       "</div>"
      ],
      "text/plain": [
       "                          name  likes\n",
       "0                  170cafe_pub   42.0\n",
       "1                         1년 전   62.0\n",
       "2    291 Photographs' 사진의 모든 곳   72.0\n",
       "3                          2호선   19.0\n",
       "4           A, Galleria Palace   19.0\n",
       "..                         ...    ...\n",
       "814                   휴.......   22.0\n",
       "815                    흑석동 어딘가   18.0\n",
       "816                    흑석동 엔파트  265.0\n",
       "817                    희우정로벚꽃길  122.0\n",
       "818                       힐링힐링   31.0\n",
       "\n",
       "[819 rows x 2 columns]"
      ]
     },
     "execution_count": 40,
     "metadata": {},
     "output_type": "execute_result"
    }
   ],
   "source": [
    "df4_c"
   ]
  },
  {
   "cell_type": "code",
   "execution_count": 41,
   "metadata": {},
   "outputs": [],
   "source": [
    "df4_d = df4.value_counts('name').reset_index()"
   ]
  },
  {
   "cell_type": "code",
   "execution_count": 42,
   "metadata": {},
   "outputs": [],
   "source": [
    "df4_d =df4_d.rename(columns = {'name':'name',0: \"numb_posts\"})"
   ]
  },
  {
   "cell_type": "code",
   "execution_count": 43,
   "metadata": {},
   "outputs": [
    {
     "data": {
      "text/html": [
       "<div>\n",
       "<style scoped>\n",
       "    .dataframe tbody tr th:only-of-type {\n",
       "        vertical-align: middle;\n",
       "    }\n",
       "\n",
       "    .dataframe tbody tr th {\n",
       "        vertical-align: top;\n",
       "    }\n",
       "\n",
       "    .dataframe thead th {\n",
       "        text-align: right;\n",
       "    }\n",
       "</style>\n",
       "<table border=\"1\" class=\"dataframe\">\n",
       "  <thead>\n",
       "    <tr style=\"text-align: right;\">\n",
       "      <th></th>\n",
       "      <th>name</th>\n",
       "      <th>likes</th>\n",
       "      <th>numb_posts</th>\n",
       "    </tr>\n",
       "  </thead>\n",
       "  <tbody>\n",
       "    <tr>\n",
       "      <th>0</th>\n",
       "      <td>170cafe_pub</td>\n",
       "      <td>42.0</td>\n",
       "      <td>1</td>\n",
       "    </tr>\n",
       "    <tr>\n",
       "      <th>1</th>\n",
       "      <td>1년 전</td>\n",
       "      <td>62.0</td>\n",
       "      <td>1</td>\n",
       "    </tr>\n",
       "    <tr>\n",
       "      <th>2</th>\n",
       "      <td>291 Photographs' 사진의 모든 곳</td>\n",
       "      <td>72.0</td>\n",
       "      <td>1</td>\n",
       "    </tr>\n",
       "    <tr>\n",
       "      <th>3</th>\n",
       "      <td>2호선</td>\n",
       "      <td>19.0</td>\n",
       "      <td>1</td>\n",
       "    </tr>\n",
       "    <tr>\n",
       "      <th>4</th>\n",
       "      <td>A, Galleria Palace</td>\n",
       "      <td>19.0</td>\n",
       "      <td>1</td>\n",
       "    </tr>\n",
       "    <tr>\n",
       "      <th>...</th>\n",
       "      <td>...</td>\n",
       "      <td>...</td>\n",
       "      <td>...</td>\n",
       "    </tr>\n",
       "    <tr>\n",
       "      <th>814</th>\n",
       "      <td>휴.......</td>\n",
       "      <td>22.0</td>\n",
       "      <td>1</td>\n",
       "    </tr>\n",
       "    <tr>\n",
       "      <th>815</th>\n",
       "      <td>흑석동 어딘가</td>\n",
       "      <td>18.0</td>\n",
       "      <td>1</td>\n",
       "    </tr>\n",
       "    <tr>\n",
       "      <th>816</th>\n",
       "      <td>흑석동 엔파트</td>\n",
       "      <td>265.0</td>\n",
       "      <td>1</td>\n",
       "    </tr>\n",
       "    <tr>\n",
       "      <th>817</th>\n",
       "      <td>희우정로벚꽃길</td>\n",
       "      <td>122.0</td>\n",
       "      <td>1</td>\n",
       "    </tr>\n",
       "    <tr>\n",
       "      <th>818</th>\n",
       "      <td>힐링힐링</td>\n",
       "      <td>31.0</td>\n",
       "      <td>1</td>\n",
       "    </tr>\n",
       "  </tbody>\n",
       "</table>\n",
       "<p>819 rows × 3 columns</p>\n",
       "</div>"
      ],
      "text/plain": [
       "                          name  likes  numb_posts\n",
       "0                  170cafe_pub   42.0           1\n",
       "1                         1년 전   62.0           1\n",
       "2    291 Photographs' 사진의 모든 곳   72.0           1\n",
       "3                          2호선   19.0           1\n",
       "4           A, Galleria Palace   19.0           1\n",
       "..                         ...    ...         ...\n",
       "814                   휴.......   22.0           1\n",
       "815                    흑석동 어딘가   18.0           1\n",
       "816                    흑석동 엔파트  265.0           1\n",
       "817                    희우정로벚꽃길  122.0           1\n",
       "818                       힐링힐링   31.0           1\n",
       "\n",
       "[819 rows x 3 columns]"
      ]
     },
     "execution_count": 43,
     "metadata": {},
     "output_type": "execute_result"
    }
   ],
   "source": [
    "df6=df4_c.merge(df4_d, on = \"name\")\n",
    "\n",
    "df6"
   ]
  },
  {
   "cell_type": "code",
   "execution_count": 44,
   "metadata": {},
   "outputs": [
    {
     "data": {
      "image/png": "[encoded data removed]",
      "text/plain": [
       "<Figure size 432x432 with 3 Axes>"
      ]
     },
     "metadata": {
      "needs_background": "light"
     },
     "output_type": "display_data"
    }
   ],
   "source": [
    "sns.jointplot(x='numb_posts', y='likes', data=df6, color='purple', kind='scatter')\n",
    "plt.show()"
   ]
  },
  {
   "cell_type": "code",
   "execution_count": null,
   "metadata": {},
   "outputs": [],
   "source": []
  }
 ],
 "metadata": {
  "kernelspec": {
   "display_name": "Python 3",
   "language": "python",
   "name": "python3"
  },
  "language_info": {
   "codemirror_mode": {
    "name": "ipython",
    "version": 3
   },
   "file_extension": ".py",
   "mimetype": "text/x-python",
   "name": "python",
   "nbconvert_exporter": "python",
   "pygments_lexer": "ipython3",
   "version": "3.8.5"
  }
 },
 "nbformat": 4,
 "nbformat_minor": 4
}
