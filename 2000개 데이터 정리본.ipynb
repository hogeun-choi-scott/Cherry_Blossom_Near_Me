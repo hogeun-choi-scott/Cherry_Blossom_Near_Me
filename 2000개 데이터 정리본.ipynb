{
 "cells": [
  {
   "cell_type": "code",
   "execution_count": 1,
   "metadata": {},
   "outputs": [],
   "source": [
    "import pandas as pd\n",
    "import numpy as np\n",
    "import os\n",
    "import matplotlib.pyplot as plt\n",
    "%matplotlib inline\n",
    "from matplotlib import font_manager, rc\n",
    "font_name = font_manager.FontProperties(fname=\"c:/Windows/Fonts/malgun.ttf\").get_name()\n",
    "rc('font', family=font_name)\n",
    "import folium\n",
    "import json                                       # json = JavaScript Object Notation.\n",
    "import os\n",
    "from sklearn.preprocessing import MinMaxScaler    # scikit-learn 라이브러리의 전처리 기능.\n",
    "import re"
   ]
  },
  {
   "cell_type": "code",
   "execution_count": 2,
   "metadata": {},
   "outputs": [],
   "source": [
    "df = pd.read_csv('project1_df2_3.csv')  "
   ]
  },
  {
   "cell_type": "code",
   "execution_count": 3,
   "metadata": {},
   "outputs": [
    {
     "data": {
      "text/plain": [
       "(7959, 11)"
      ]
     },
     "execution_count": 3,
     "metadata": {},
     "output_type": "execute_result"
    }
   ],
   "source": [
    "df.shape"
   ]
  },
  {
   "cell_type": "code",
   "execution_count": 4,
   "metadata": {},
   "outputs": [
    {
     "name": "stdout",
     "output_type": "stream",
     "text": [
      "<class 'pandas.core.frame.DataFrame'>\n",
      "RangeIndex: 7959 entries, 0 to 7958\n",
      "Data columns (total 11 columns):\n",
      " #   Column      Non-Null Count  Dtype  \n",
      "---  ------      --------------  -----  \n",
      " 0   Unnamed: 0  7959 non-null   int64  \n",
      " 1   num         7959 non-null   int64  \n",
      " 2   time        7959 non-null   object \n",
      " 3   name        7959 non-null   object \n",
      " 4   latitude    7959 non-null   float64\n",
      " 5   longitude   7959 non-null   float64\n",
      " 6   likes       7959 non-null   int64  \n",
      " 7   comments    7696 non-null   float64\n",
      " 8   hashtag     7959 non-null   object \n",
      " 9   code        7959 non-null   object \n",
      " 10  address     7959 non-null   object \n",
      "dtypes: float64(3), int64(3), object(5)\n",
      "memory usage: 684.1+ KB\n"
     ]
    }
   ],
   "source": [
    "df.info()"
   ]
  },
  {
   "cell_type": "markdown",
   "metadata": {},
   "source": [
    "### 총 장소가 2,925개 이다 ###   "
   ]
  },
  {
   "cell_type": "code",
   "execution_count": 5,
   "metadata": {},
   "outputs": [
    {
     "data": {
      "text/plain": [
       "Seoul, Korea                  293\n",
       "서울숲 Seoul Forest Park         164\n",
       "일산 호수 공원 - Ilsan Lake Park    100\n",
       "벚꽃아래                           77\n",
       "Incheon, Korea                 70\n",
       "                             ... \n",
       "덕소삼패지구                          1\n",
       "도봉산신선대                          1\n",
       "미원면                             1\n",
       "신세계백화점 의정부점                     1\n",
       "동국대                             1\n",
       "Name: name, Length: 2925, dtype: int64"
      ]
     },
     "execution_count": 5,
     "metadata": {},
     "output_type": "execute_result"
    }
   ],
   "source": [
    "df.name.value_counts()    #nunique = 2925개 인것임"
   ]
  },
  {
   "cell_type": "code",
   "execution_count": 6,
   "metadata": {},
   "outputs": [
    {
     "data": {
      "text/plain": [
       "0                                                 서서울cc\n",
       "1                                                 Suwon\n",
       "2                                              레이크사이드cc\n",
       "3                                               플라자cc용인\n",
       "4                                               김포한강신도시\n",
       "5                                                   강원도\n",
       "6                                          Seoul, Korea\n",
       "7                                               E-World\n",
       "8                                              여의도 한강공원\n",
       "9                                             Jeju City\n",
       "10                              대구 - Daegu, South Korea\n",
       "11                                              광교아브뉴프랑\n",
       "12                                                제이드가든\n",
       "13                                               회룡 중랑천\n",
       "14    서울 경복궁- Gyeongbokgung Palace, Seoul South Kore...\n",
       "15                                               벚꽃나무아래\n",
       "16                                         Wonju, Korea\n",
       "17                              Seoul, South Korea - 서울\n",
       "18                                              벚꽃나무 아래\n",
       "19                                               하남미사지구\n",
       "20                                                  자하연\n",
       "21                                 Incheon, South Korea\n",
       "22                                                  성당못\n",
       "23                                            서울대공원 동물원\n",
       "24                             올림픽공원 Seoul Olympic Park\n",
       "25                                         Seoul, Korea\n",
       "26                                            한국전통문화대학교\n",
       "27                                        N SEOUL TOWER\n",
       "28                                                동촌유원지\n",
       "29                                               안산호수공원\n",
       "30                                              광교산 산책길\n",
       "31                                                정독도서관\n",
       "32                                             인일여자고등학교\n",
       "33                                                 벚꽃엔딩\n",
       "34                                                   파주\n",
       "35                                      Inha University\n",
       "36                                              경포가시연습지\n",
       "37                                                  양재천\n",
       "38                                   Daegu, South Korea\n",
       "39                                              Jeju-do\n",
       "40                                             인천초은고등학교\n",
       "41                                        홍대입구역 9번출구 근처\n",
       "42                                          Wknd Lounge\n",
       "43                           남산 서울타워 Namsan Seoul Tower\n",
       "44                                                보라매공원\n",
       "45                              Loiter - Coffee Shelter\n",
       "46                                                 벌레소굴\n",
       "47                                  Songdo Central Park\n",
       "48                                            여기가어디게~~~\n",
       "49                                               벚꽃나무아래\n",
       "Name: name, dtype: object"
      ]
     },
     "execution_count": 6,
     "metadata": {},
     "output_type": "execute_result"
    }
   ],
   "source": [
    "df.name[:50]"
   ]
  },
  {
   "cell_type": "code",
   "execution_count": 7,
   "metadata": {},
   "outputs": [],
   "source": [
    "b= pd.DataFrame(df.groupby([\"name\",\"address\"])[\"code\"].count())"
   ]
  },
  {
   "cell_type": "code",
   "execution_count": 8,
   "metadata": {},
   "outputs": [],
   "source": [
    "b1 = b.reset_index().sort_values(\"code\", ascending = False).reset_index()"
   ]
  },
  {
   "cell_type": "code",
   "execution_count": 9,
   "metadata": {},
   "outputs": [
    {
     "data": {
      "text/plain": [
       "0                     Seoul, Korea\n",
       "1            서울숲 Seoul Forest Park\n",
       "2       일산 호수 공원 - Ilsan Lake Park\n",
       "3                   Incheon, Korea\n",
       "4                           석촌호수공원\n",
       "                   ...            \n",
       "3012                          바우지움\n",
       "3013                          반월마을\n",
       "3014                          반포본동\n",
       "3015                       반포주공아파트\n",
       "3016                          힐링힐링\n",
       "Name: name, Length: 3017, dtype: object"
      ]
     },
     "execution_count": 9,
     "metadata": {},
     "output_type": "execute_result"
    }
   ],
   "source": [
    "b1['name']"
   ]
  },
  {
   "cell_type": "code",
   "execution_count": 10,
   "metadata": {},
   "outputs": [
    {
     "data": {
      "text/plain": [
       "2641"
      ]
     },
     "execution_count": 10,
     "metadata": {},
     "output_type": "execute_result"
    }
   ],
   "source": [
    "df0=df[df.address.str.contains('서울')==True]\n",
    "\n",
    "len(df0)"
   ]
  },
  {
   "cell_type": "code",
   "execution_count": 11,
   "metadata": {},
   "outputs": [],
   "source": [
    "df1 =df0[df0.name.str.contains('Seoul, Korea')==False]\n",
    "\n",
    "df2 = df1[df1.name.str.contains('Seoul, South Korea')==False]"
   ]
  },
  {
   "cell_type": "code",
   "execution_count": 12,
   "metadata": {},
   "outputs": [
    {
     "data": {
      "text/plain": [
       "'서울 서초구 잠원동 18-2'"
      ]
     },
     "execution_count": 12,
     "metadata": {},
     "output_type": "execute_result"
    }
   ],
   "source": [
    "df0[df0.name=='Seoul, Korea'].address.value_counts().keys()[0]"
   ]
  },
  {
   "cell_type": "code",
   "execution_count": 13,
   "metadata": {},
   "outputs": [
    {
     "data": {
      "text/plain": [
       "2312"
      ]
     },
     "execution_count": 13,
     "metadata": {},
     "output_type": "execute_result"
    }
   ],
   "source": [
    "len(df2)"
   ]
  },
  {
   "cell_type": "code",
   "execution_count": 14,
   "metadata": {},
   "outputs": [
    {
     "data": {
      "text/plain": [
       "2288"
      ]
     },
     "execution_count": 14,
     "metadata": {},
     "output_type": "execute_result"
    }
   ],
   "source": [
    "df3 =df2[df2.address!=(df0[df0.name=='Seoul, Korea'].address.value_counts().keys()[0])]\n",
    "len(df3)"
   ]
  },
  {
   "cell_type": "code",
   "execution_count": 15,
   "metadata": {},
   "outputs": [
    {
     "data": {
      "text/plain": [
       "서울숲 Seoul Forest Park        164\n",
       "석촌호수공원                        67\n",
       "Seoul National University     45\n",
       "벚꽃아래                          43\n",
       "석촌호수                          42\n",
       "                            ... \n",
       "원주시                            1\n",
       "오류동                            1\n",
       "구로거리공원                         1\n",
       "광면                             1\n",
       "Eunpyeong District             1\n",
       "Name: name, Length: 822, dtype: int64"
      ]
     },
     "execution_count": 15,
     "metadata": {},
     "output_type": "execute_result"
    }
   ],
   "source": [
    "df3.name.value_counts()"
   ]
  },
  {
   "cell_type": "code",
   "execution_count": 16,
   "metadata": {},
   "outputs": [
    {
     "ename": "ValueError",
     "evalue": "operands could not be broadcast together with shapes (2288,) (0,) ",
     "output_type": "error",
     "traceback": [
      "\u001b[1;31m---------------------------------------------------------------------------\u001b[0m",
      "\u001b[1;31mValueError\u001b[0m                                Traceback (most recent call last)",
      "\u001b[1;32m<ipython-input-16-ac7d22aa792d>\u001b[0m in \u001b[0;36m<module>\u001b[1;34m\u001b[0m\n\u001b[1;32m----> 1\u001b[1;33m \u001b[0mdf3\u001b[0m\u001b[1;33m.\u001b[0m\u001b[0mtime\u001b[0m \u001b[1;33m^\u001b[0m\u001b[1;33m[\u001b[0m\u001b[1;33m]\u001b[0m\u001b[1;33m\u001b[0m\u001b[1;33m\u001b[0m\u001b[0m\n\u001b[0m",
      "\u001b[1;32m~\\anaconda3\\lib\\site-packages\\pandas\\core\\ops\\common.py\u001b[0m in \u001b[0;36mnew_method\u001b[1;34m(self, other)\u001b[0m\n\u001b[0;32m     63\u001b[0m         \u001b[0mother\u001b[0m \u001b[1;33m=\u001b[0m \u001b[0mitem_from_zerodim\u001b[0m\u001b[1;33m(\u001b[0m\u001b[0mother\u001b[0m\u001b[1;33m)\u001b[0m\u001b[1;33m\u001b[0m\u001b[1;33m\u001b[0m\u001b[0m\n\u001b[0;32m     64\u001b[0m \u001b[1;33m\u001b[0m\u001b[0m\n\u001b[1;32m---> 65\u001b[1;33m         \u001b[1;32mreturn\u001b[0m \u001b[0mmethod\u001b[0m\u001b[1;33m(\u001b[0m\u001b[0mself\u001b[0m\u001b[1;33m,\u001b[0m \u001b[0mother\u001b[0m\u001b[1;33m)\u001b[0m\u001b[1;33m\u001b[0m\u001b[1;33m\u001b[0m\u001b[0m\n\u001b[0m\u001b[0;32m     66\u001b[0m \u001b[1;33m\u001b[0m\u001b[0m\n\u001b[0;32m     67\u001b[0m     \u001b[1;32mreturn\u001b[0m \u001b[0mnew_method\u001b[0m\u001b[1;33m\u001b[0m\u001b[1;33m\u001b[0m\u001b[0m\n",
      "\u001b[1;32m~\\anaconda3\\lib\\site-packages\\pandas\\core\\ops\\__init__.py\u001b[0m in \u001b[0;36mwrapper\u001b[1;34m(self, other)\u001b[0m\n\u001b[0;32m    392\u001b[0m         \u001b[0mrvalues\u001b[0m \u001b[1;33m=\u001b[0m \u001b[0mextract_array\u001b[0m\u001b[1;33m(\u001b[0m\u001b[0mother\u001b[0m\u001b[1;33m,\u001b[0m \u001b[0mextract_numpy\u001b[0m\u001b[1;33m=\u001b[0m\u001b[1;32mTrue\u001b[0m\u001b[1;33m)\u001b[0m\u001b[1;33m\u001b[0m\u001b[1;33m\u001b[0m\u001b[0m\n\u001b[0;32m    393\u001b[0m \u001b[1;33m\u001b[0m\u001b[0m\n\u001b[1;32m--> 394\u001b[1;33m         \u001b[0mres_values\u001b[0m \u001b[1;33m=\u001b[0m \u001b[0mlogical_op\u001b[0m\u001b[1;33m(\u001b[0m\u001b[0mlvalues\u001b[0m\u001b[1;33m,\u001b[0m \u001b[0mrvalues\u001b[0m\u001b[1;33m,\u001b[0m \u001b[0mop\u001b[0m\u001b[1;33m)\u001b[0m\u001b[1;33m\u001b[0m\u001b[1;33m\u001b[0m\u001b[0m\n\u001b[0m\u001b[0;32m    395\u001b[0m         \u001b[1;32mreturn\u001b[0m \u001b[0mself\u001b[0m\u001b[1;33m.\u001b[0m\u001b[0m_construct_result\u001b[0m\u001b[1;33m(\u001b[0m\u001b[0mres_values\u001b[0m\u001b[1;33m,\u001b[0m \u001b[0mname\u001b[0m\u001b[1;33m=\u001b[0m\u001b[0mres_name\u001b[0m\u001b[1;33m)\u001b[0m\u001b[1;33m\u001b[0m\u001b[1;33m\u001b[0m\u001b[0m\n\u001b[0;32m    396\u001b[0m \u001b[1;33m\u001b[0m\u001b[0m\n",
      "\u001b[1;32m~\\anaconda3\\lib\\site-packages\\pandas\\core\\ops\\array_ops.py\u001b[0m in \u001b[0;36mlogical_op\u001b[1;34m(left, right, op)\u001b[0m\n\u001b[0;32m    354\u001b[0m         \u001b[0mfiller\u001b[0m \u001b[1;33m=\u001b[0m \u001b[0mfill_int\u001b[0m \u001b[1;32mif\u001b[0m \u001b[0mis_self_int_dtype\u001b[0m \u001b[1;32mand\u001b[0m \u001b[0mis_other_int_dtype\u001b[0m \u001b[1;32melse\u001b[0m \u001b[0mfill_bool\u001b[0m\u001b[1;33m\u001b[0m\u001b[1;33m\u001b[0m\u001b[0m\n\u001b[0;32m    355\u001b[0m \u001b[1;33m\u001b[0m\u001b[0m\n\u001b[1;32m--> 356\u001b[1;33m         \u001b[0mres_values\u001b[0m \u001b[1;33m=\u001b[0m \u001b[0mna_logical_op\u001b[0m\u001b[1;33m(\u001b[0m\u001b[0mlvalues\u001b[0m\u001b[1;33m,\u001b[0m \u001b[0mrvalues\u001b[0m\u001b[1;33m,\u001b[0m \u001b[0mop\u001b[0m\u001b[1;33m)\u001b[0m\u001b[1;33m\u001b[0m\u001b[1;33m\u001b[0m\u001b[0m\n\u001b[0m\u001b[0;32m    357\u001b[0m         \u001b[0mres_values\u001b[0m \u001b[1;33m=\u001b[0m \u001b[0mfiller\u001b[0m\u001b[1;33m(\u001b[0m\u001b[0mres_values\u001b[0m\u001b[1;33m)\u001b[0m  \u001b[1;31m# type: ignore\u001b[0m\u001b[1;33m\u001b[0m\u001b[1;33m\u001b[0m\u001b[0m\n\u001b[0;32m    358\u001b[0m \u001b[1;33m\u001b[0m\u001b[0m\n",
      "\u001b[1;32m~\\anaconda3\\lib\\site-packages\\pandas\\core\\ops\\array_ops.py\u001b[0m in \u001b[0;36mna_logical_op\u001b[1;34m(x, y, op)\u001b[0m\n\u001b[0;32m    264\u001b[0m         \u001b[1;31m# Then Cases where this goes through without raising include:\u001b[0m\u001b[1;33m\u001b[0m\u001b[1;33m\u001b[0m\u001b[1;33m\u001b[0m\u001b[0m\n\u001b[0;32m    265\u001b[0m         \u001b[1;31m#  (xint or xbool) and (yint or bool)\u001b[0m\u001b[1;33m\u001b[0m\u001b[1;33m\u001b[0m\u001b[1;33m\u001b[0m\u001b[0m\n\u001b[1;32m--> 266\u001b[1;33m         \u001b[0mresult\u001b[0m \u001b[1;33m=\u001b[0m \u001b[0mop\u001b[0m\u001b[1;33m(\u001b[0m\u001b[0mx\u001b[0m\u001b[1;33m,\u001b[0m \u001b[0my\u001b[0m\u001b[1;33m)\u001b[0m\u001b[1;33m\u001b[0m\u001b[1;33m\u001b[0m\u001b[0m\n\u001b[0m\u001b[0;32m    267\u001b[0m     \u001b[1;32mexcept\u001b[0m \u001b[0mTypeError\u001b[0m\u001b[1;33m:\u001b[0m\u001b[1;33m\u001b[0m\u001b[1;33m\u001b[0m\u001b[0m\n\u001b[0;32m    268\u001b[0m         \u001b[1;32mif\u001b[0m \u001b[0misinstance\u001b[0m\u001b[1;33m(\u001b[0m\u001b[0my\u001b[0m\u001b[1;33m,\u001b[0m \u001b[0mnp\u001b[0m\u001b[1;33m.\u001b[0m\u001b[0mndarray\u001b[0m\u001b[1;33m)\u001b[0m\u001b[1;33m:\u001b[0m\u001b[1;33m\u001b[0m\u001b[1;33m\u001b[0m\u001b[0m\n",
      "\u001b[1;31mValueError\u001b[0m: operands could not be broadcast together with shapes (2288,) (0,) "
     ]
    }
   ],
   "source": [
    "df3.time ^[]"
   ]
  },
  {
   "cell_type": "markdown",
   "metadata": {},
   "source": [
    "## df3 : 서울에 점이 822개 찍힐거야 ##"
   ]
  },
  {
   "cell_type": "code",
   "execution_count": 53,
   "metadata": {},
   "outputs": [
    {
     "data": {
      "text/plain": [
       "서울숲 Seoul Forest Park        164\n",
       "석촌호수공원                        67\n",
       "Seoul National University     45\n",
       "벚꽃아래                          43\n",
       "석촌호수                          42\n",
       "                            ... \n",
       "마포대교                           1\n",
       "화우림                            1\n",
       "전라북도 부안                        1\n",
       "도곡동                            1\n",
       "하트 뿅!♡뿅~!♡                     1\n",
       "Name: name, Length: 822, dtype: int64"
      ]
     },
     "execution_count": 53,
     "metadata": {},
     "output_type": "execute_result"
    }
   ],
   "source": [
    "df3.name.value_counts()"
   ]
  },
  {
   "cell_type": "markdown",
   "metadata": {},
   "source": [
    "### 일단 df3까지 ###--------------------------------------------"
   ]
  },
  {
   "cell_type": "code",
   "execution_count": 54,
   "metadata": {},
   "outputs": [
    {
     "data": {
      "text/plain": [
       "Index(['Unnamed: 0', 'num', 'time', 'name', 'latitude', 'longitude', 'likes',\n",
       "       'comments', 'hashtag', 'code', 'address'],\n",
       "      dtype='object')"
      ]
     },
     "execution_count": 54,
     "metadata": {},
     "output_type": "execute_result"
    }
   ],
   "source": [
    "df3.columns"
   ]
  },
  {
   "cell_type": "code",
   "execution_count": 55,
   "metadata": {},
   "outputs": [],
   "source": [
    "df4=df3[df3.time.str.contains('2021')==True]"
   ]
  },
  {
   "cell_type": "code",
   "execution_count": 82,
   "metadata": {},
   "outputs": [],
   "source": [
    "address_list = df4.address.reset_index().drop(\"index\", axis=1)[\"address\"]"
   ]
  },
  {
   "cell_type": "code",
   "execution_count": 114,
   "metadata": {},
   "outputs": [],
   "source": [
    "address_list = list(address_list)"
   ]
  },
  {
   "cell_type": "code",
   "execution_count": 136,
   "metadata": {},
   "outputs": [],
   "source": [
    "city = []"
   ]
  },
  {
   "cell_type": "code",
   "execution_count": 137,
   "metadata": {},
   "outputs": [
    {
     "data": {
      "text/plain": [
       "[]"
      ]
     },
     "execution_count": 137,
     "metadata": {},
     "output_type": "execute_result"
    }
   ],
   "source": [
    "city"
   ]
  },
  {
   "cell_type": "code",
   "execution_count": 138,
   "metadata": {},
   "outputs": [],
   "source": [
    "for x in range(len(address_list)):\n",
    "    city.append(address_list[x].split()[1])"
   ]
  },
  {
   "cell_type": "code",
   "execution_count": 140,
   "metadata": {},
   "outputs": [
    {
     "data": {
      "text/html": [
       "<div>\n",
       "<style scoped>\n",
       "    .dataframe tbody tr th:only-of-type {\n",
       "        vertical-align: middle;\n",
       "    }\n",
       "\n",
       "    .dataframe tbody tr th {\n",
       "        vertical-align: top;\n",
       "    }\n",
       "\n",
       "    .dataframe thead th {\n",
       "        text-align: right;\n",
       "    }\n",
       "</style>\n",
       "<table border=\"1\" class=\"dataframe\">\n",
       "  <thead>\n",
       "    <tr style=\"text-align: right;\">\n",
       "      <th></th>\n",
       "      <th>Unnamed: 0</th>\n",
       "      <th>num</th>\n",
       "      <th>time</th>\n",
       "      <th>name</th>\n",
       "      <th>latitude</th>\n",
       "      <th>longitude</th>\n",
       "      <th>likes</th>\n",
       "      <th>comments</th>\n",
       "      <th>hashtag</th>\n",
       "      <th>code</th>\n",
       "      <th>address</th>\n",
       "      <th>city</th>\n",
       "    </tr>\n",
       "  </thead>\n",
       "  <tbody>\n",
       "    <tr>\n",
       "      <th>8</th>\n",
       "      <td>8</td>\n",
       "      <td>10</td>\n",
       "      <td>2021-04-07</td>\n",
       "      <td>여의도 한강공원</td>\n",
       "      <td>37.526906</td>\n",
       "      <td>126.934372</td>\n",
       "      <td>219</td>\n",
       "      <td>6.0</td>\n",
       "      <td>[]</td>\n",
       "      <td>CNXPrWJnyRA</td>\n",
       "      <td>서울 영등포구 여의도동 85</td>\n",
       "      <td>영등포구</td>\n",
       "    </tr>\n",
       "    <tr>\n",
       "      <th>14</th>\n",
       "      <td>15</td>\n",
       "      <td>14</td>\n",
       "      <td>2021-04-07</td>\n",
       "      <td>서울 경복궁- Gyeongbokgung Palace, Seoul South Kore...</td>\n",
       "      <td>37.556664</td>\n",
       "      <td>126.972640</td>\n",
       "      <td>0</td>\n",
       "      <td>0.0</td>\n",
       "      <td>['#IPhone12promax', '#photography', '#꿈꾸는사진가',...</td>\n",
       "      <td>CNXjHp4LkGs</td>\n",
       "      <td>서울 중구 남대문로5가 73-2</td>\n",
       "      <td>중구</td>\n",
       "    </tr>\n",
       "    <tr>\n",
       "      <th>15</th>\n",
       "      <td>17</td>\n",
       "      <td>15</td>\n",
       "      <td>2021-04-07</td>\n",
       "      <td>벚꽃나무아래</td>\n",
       "      <td>37.525005</td>\n",
       "      <td>126.858908</td>\n",
       "      <td>16</td>\n",
       "      <td>0.0</td>\n",
       "      <td>['#단체사진', '#봄', '#벚꽃', '#인스타그램', '#얼스타그래...</td>\n",
       "      <td>CNXjE6dMpFq</td>\n",
       "      <td>서울 양천구 신정동 953-8</td>\n",
       "      <td>양천구</td>\n",
       "    </tr>\n",
       "    <tr>\n",
       "      <th>20</th>\n",
       "      <td>22</td>\n",
       "      <td>20</td>\n",
       "      <td>2021-04-07</td>\n",
       "      <td>자하연</td>\n",
       "      <td>37.460831</td>\n",
       "      <td>126.952244</td>\n",
       "      <td>24</td>\n",
       "      <td>2.0</td>\n",
       "      <td>[]</td>\n",
       "      <td>CNXiZ9dpqPE</td>\n",
       "      <td>서울 관악구 신림동 산 56-1</td>\n",
       "      <td>관악구</td>\n",
       "    </tr>\n",
       "    <tr>\n",
       "      <th>23</th>\n",
       "      <td>25</td>\n",
       "      <td>23</td>\n",
       "      <td>2021-04-07</td>\n",
       "      <td>서울대공원 동물원</td>\n",
       "      <td>37.519347</td>\n",
       "      <td>127.100615</td>\n",
       "      <td>1</td>\n",
       "      <td>0.0</td>\n",
       "      <td>['#서울대공원', '#동물원', '#벚꽃', '#벚꽃놀이', '#벚꽃구경']</td>\n",
       "      <td>CNXi7P1pSce</td>\n",
       "      <td>서울 송파구 신천동 7</td>\n",
       "      <td>송파구</td>\n",
       "    </tr>\n",
       "    <tr>\n",
       "      <th>...</th>\n",
       "      <td>...</td>\n",
       "      <td>...</td>\n",
       "      <td>...</td>\n",
       "      <td>...</td>\n",
       "      <td>...</td>\n",
       "      <td>...</td>\n",
       "      <td>...</td>\n",
       "      <td>...</td>\n",
       "      <td>...</td>\n",
       "      <td>...</td>\n",
       "      <td>...</td>\n",
       "      <td>...</td>\n",
       "    </tr>\n",
       "    <tr>\n",
       "      <th>7939</th>\n",
       "      <td>8942</td>\n",
       "      <td>8949</td>\n",
       "      <td>2021-04-06</td>\n",
       "      <td>서울대입구역</td>\n",
       "      <td>37.480667</td>\n",
       "      <td>126.952808</td>\n",
       "      <td>30</td>\n",
       "      <td>2.0</td>\n",
       "      <td>[]</td>\n",
       "      <td>CNUGR5NFxn7</td>\n",
       "      <td>서울 관악구 봉천동 979-1</td>\n",
       "      <td>관악구</td>\n",
       "    </tr>\n",
       "    <tr>\n",
       "      <th>7942</th>\n",
       "      <td>8946</td>\n",
       "      <td>8954</td>\n",
       "      <td>2021-04-06</td>\n",
       "      <td>롯데월드몰</td>\n",
       "      <td>37.513446</td>\n",
       "      <td>127.103478</td>\n",
       "      <td>57</td>\n",
       "      <td>2.0</td>\n",
       "      <td>['#파라솔만한우산', '#럽스타']</td>\n",
       "      <td>CNUF199jrPB</td>\n",
       "      <td>서울 송파구 신천동 29</td>\n",
       "      <td>송파구</td>\n",
       "    </tr>\n",
       "    <tr>\n",
       "      <th>7948</th>\n",
       "      <td>8952</td>\n",
       "      <td>8961</td>\n",
       "      <td>2021-04-06</td>\n",
       "      <td>서울특별시 서대문구 남가좌동</td>\n",
       "      <td>37.572795</td>\n",
       "      <td>126.921704</td>\n",
       "      <td>80</td>\n",
       "      <td>1.0</td>\n",
       "      <td>['#Seoul', '#Korea', '#cherryblossom', '#sprin...</td>\n",
       "      <td>CNUGGF4JErl</td>\n",
       "      <td>서울 서대문구 남가좌동 386</td>\n",
       "      <td>서대문구</td>\n",
       "    </tr>\n",
       "    <tr>\n",
       "      <th>7954</th>\n",
       "      <td>8958</td>\n",
       "      <td>8968</td>\n",
       "      <td>2021-04-06</td>\n",
       "      <td>당인리 발전소 벚꽃길</td>\n",
       "      <td>37.546425</td>\n",
       "      <td>126.917597</td>\n",
       "      <td>113</td>\n",
       "      <td>0.0</td>\n",
       "      <td>['#fujifilmxt3', '#xf50140mm', '#당인리벚꽃길', '#벚꽃...</td>\n",
       "      <td>CNUF8onMEE2</td>\n",
       "      <td>서울 마포구 합정동 402-1</td>\n",
       "      <td>마포구</td>\n",
       "    </tr>\n",
       "    <tr>\n",
       "      <th>7957</th>\n",
       "      <td>8961</td>\n",
       "      <td>8973</td>\n",
       "      <td>2021-04-06</td>\n",
       "      <td>JW Marriott Dongdaemun Square Seoul</td>\n",
       "      <td>37.570178</td>\n",
       "      <td>127.005751</td>\n",
       "      <td>199</td>\n",
       "      <td>3.0</td>\n",
       "      <td>[]</td>\n",
       "      <td>CNUFuwepnDg</td>\n",
       "      <td>서울 종로구 종로5가 444-5</td>\n",
       "      <td>종로구</td>\n",
       "    </tr>\n",
       "  </tbody>\n",
       "</table>\n",
       "<p>2285 rows × 12 columns</p>\n",
       "</div>"
      ],
      "text/plain": [
       "      Unnamed: 0   num        time  \\\n",
       "8              8    10  2021-04-07   \n",
       "14            15    14  2021-04-07   \n",
       "15            17    15  2021-04-07   \n",
       "20            22    20  2021-04-07   \n",
       "23            25    23  2021-04-07   \n",
       "...          ...   ...         ...   \n",
       "7939        8942  8949  2021-04-06   \n",
       "7942        8946  8954  2021-04-06   \n",
       "7948        8952  8961  2021-04-06   \n",
       "7954        8958  8968  2021-04-06   \n",
       "7957        8961  8973  2021-04-06   \n",
       "\n",
       "                                                   name   latitude  \\\n",
       "8                                              여의도 한강공원  37.526906   \n",
       "14    서울 경복궁- Gyeongbokgung Palace, Seoul South Kore...  37.556664   \n",
       "15                                               벚꽃나무아래  37.525005   \n",
       "20                                                  자하연  37.460831   \n",
       "23                                            서울대공원 동물원  37.519347   \n",
       "...                                                 ...        ...   \n",
       "7939                                             서울대입구역  37.480667   \n",
       "7942                                              롯데월드몰  37.513446   \n",
       "7948                                    서울특별시 서대문구 남가좌동  37.572795   \n",
       "7954                                        당인리 발전소 벚꽃길  37.546425   \n",
       "7957                JW Marriott Dongdaemun Square Seoul  37.570178   \n",
       "\n",
       "       longitude  likes  comments  \\\n",
       "8     126.934372    219       6.0   \n",
       "14    126.972640      0       0.0   \n",
       "15    126.858908     16       0.0   \n",
       "20    126.952244     24       2.0   \n",
       "23    127.100615      1       0.0   \n",
       "...          ...    ...       ...   \n",
       "7939  126.952808     30       2.0   \n",
       "7942  127.103478     57       2.0   \n",
       "7948  126.921704     80       1.0   \n",
       "7954  126.917597    113       0.0   \n",
       "7957  127.005751    199       3.0   \n",
       "\n",
       "                                                hashtag         code  \\\n",
       "8                                                    []  CNXPrWJnyRA   \n",
       "14    ['#IPhone12promax', '#photography', '#꿈꾸는사진가',...  CNXjHp4LkGs   \n",
       "15    ['#단체사진', '#봄', '#벚꽃', '#인스타그램', '#얼스타그래...  CNXjE6dMpFq   \n",
       "20                                                   []  CNXiZ9dpqPE   \n",
       "23          ['#서울대공원', '#동물원', '#벚꽃', '#벚꽃놀이', '#벚꽃구경']  CNXi7P1pSce   \n",
       "...                                                 ...          ...   \n",
       "7939                                                 []  CNUGR5NFxn7   \n",
       "7942                               ['#파라솔만한우산', '#럽스타']  CNUF199jrPB   \n",
       "7948  ['#Seoul', '#Korea', '#cherryblossom', '#sprin...  CNUGGF4JErl   \n",
       "7954  ['#fujifilmxt3', '#xf50140mm', '#당인리벚꽃길', '#벚꽃...  CNUF8onMEE2   \n",
       "7957                                                 []  CNUFuwepnDg   \n",
       "\n",
       "                address  city  \n",
       "8       서울 영등포구 여의도동 85  영등포구  \n",
       "14    서울 중구 남대문로5가 73-2    중구  \n",
       "15     서울 양천구 신정동 953-8   양천구  \n",
       "20    서울 관악구 신림동 산 56-1   관악구  \n",
       "23         서울 송파구 신천동 7   송파구  \n",
       "...                 ...   ...  \n",
       "7939   서울 관악구 봉천동 979-1   관악구  \n",
       "7942      서울 송파구 신천동 29   송파구  \n",
       "7948   서울 서대문구 남가좌동 386  서대문구  \n",
       "7954   서울 마포구 합정동 402-1   마포구  \n",
       "7957  서울 종로구 종로5가 444-5   종로구  \n",
       "\n",
       "[2285 rows x 12 columns]"
      ]
     },
     "execution_count": 140,
     "metadata": {},
     "output_type": "execute_result"
    }
   ],
   "source": [
    "df4[\"city\"] = city"
   ]
  },
  {
   "cell_type": "code",
   "execution_count": 18,
   "metadata": {},
   "outputs": [
    {
     "data": {
      "text/plain": [
       "37"
      ]
     },
     "execution_count": 18,
     "metadata": {},
     "output_type": "execute_result"
    }
   ],
   "source": [
    "len(df[df['name'].str.contains('제주도')].name)      ## 총 20개 중 4개빼고 날리기 "
   ]
  },
  {
   "cell_type": "code",
   "execution_count": 19,
   "metadata": {},
   "outputs": [
    {
     "data": {
      "text/plain": [
       "'Lotte World Seoul, Korea'"
      ]
     },
     "execution_count": 19,
     "metadata": {},
     "output_type": "execute_result"
    }
   ],
   "source": [
    "'Everland Theme Park & Resort, Korea' \n",
    "    \n",
    "'Chungnam National University, Daejeon, Korea'\n",
    "\n",
    "'Lotte World Seoul, Korea'"
   ]
  },
  {
   "cell_type": "code",
   "execution_count": 20,
   "metadata": {},
   "outputs": [
    {
     "data": {
      "text/plain": [
       "array(['Jeju City', 'Jeju-do', '녹산로 유채꽃도로', '조천읍', '제주도',\n",
       "       '10004ok_coffee', '삼성혈', '애월고등학교', '환상의 섬 Jeju Island', '한라수목원',\n",
       "       '비밀의숲', '항파두리 항몽유적지', '제주대학교', '제주도 삼성혈', '한라산아래첫마을', '상효원 수목원',\n",
       "       '여섯번의 보름, 6times 15days in Jeju', '전농로', '호근동', '제주도 애월읍',\n",
       "       'Jeju Island, Korea', '아줄레주', '전농로 벗꽃길', '가시리 꽃길', '효돈마을',\n",
       "       '도두봉 정상', '어썸스테이',\n",
       "       'Jeju Free International City Development Center', 'Jeju Island',\n",
       "       '노리매', '보름왓', 'Habilis Coffee - 하빌리스', '잔디공장', '오설록', '위미리',\n",
       "       '푸른섬 제주도', '용머리해안', '다람쥐식탁', '서귀포',\n",
       "       '해비치호텔&리조트 - Haevichi hotel & resort', '오라C.C', '제주도 한림',\n",
       "       '제주 함덕 서우봉 해변', '성읍민속마을', '함덕해변', '제주 남원읍', '카멜리아 힐',\n",
       "       '제주신화월드 Jeju Shinhwa World', 'Osulloc Tea Museum', 'Seogwipo',\n",
       "       '신산공원', '드르쿰다인성산', '제대 왕벚꽃길', '조랑말체험공원', '예래생태공원', '사계리 형제해안로',\n",
       "       '제주종합경기장', '켄싱턴리조트 서귀포', '제주대학교 입구 벚꽃길', '오설록티뮤지엄', '三姓穴',\n",
       "       '용연구름다리', '녹산로'], dtype=object)"
      ]
     },
     "execution_count": 20,
     "metadata": {},
     "output_type": "execute_result"
    }
   ],
   "source": [
    "df[df['address'].str.contains('제주')].name.unique()"
   ]
  },
  {
   "cell_type": "code",
   "execution_count": null,
   "metadata": {},
   "outputs": [],
   "source": []
  }
 ],
 "metadata": {
  "kernelspec": {
   "display_name": "Python 3",
   "language": "python",
   "name": "python3"
  },
  "language_info": {
   "codemirror_mode": {
    "name": "ipython",
    "version": 3
   },
   "file_extension": ".py",
   "mimetype": "text/x-python",
   "name": "python",
   "nbconvert_exporter": "python",
   "pygments_lexer": "ipython3",
   "version": "3.8.5"
  }
 },
 "nbformat": 4,
 "nbformat_minor": 4
}
